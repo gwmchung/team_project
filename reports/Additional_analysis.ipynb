{
 "cells": [
  {
   "cell_type": "code",
   "execution_count": 15,
   "metadata": {},
   "outputs": [],
   "source": [
    "import pandas as pd\n",
    "import numpy as np\n",
    "import matplotlib.pyplot as plt\n",
    "import seaborn as sns\n",
    "\n",
    "from scipy import stats\n",
    "from sklearn.model_selection import train_test_split\n",
    "from sklearn.linear_model import LinearRegression\n",
    "from sklearn.metrics import mean_squared_error, r2_score\n",
    "from sklearn.tree import DecisionTreeClassifier\n",
    "from sklearn.metrics import classification_report, confusion_matrix\n",
    "from sklearn.decomposition import PCA\n",
    "from sklearn.cluster import KMeans"
   ]
  },
  {
   "cell_type": "code",
   "execution_count": 16,
   "metadata": {},
   "outputs": [
    {
     "data": {
      "text/html": [
       "<div>\n",
       "<style scoped>\n",
       "    .dataframe tbody tr th:only-of-type {\n",
       "        vertical-align: middle;\n",
       "    }\n",
       "\n",
       "    .dataframe tbody tr th {\n",
       "        vertical-align: top;\n",
       "    }\n",
       "\n",
       "    .dataframe thead th {\n",
       "        text-align: right;\n",
       "    }\n",
       "</style>\n",
       "<table border=\"1\" class=\"dataframe\">\n",
       "  <thead>\n",
       "    <tr style=\"text-align: right;\">\n",
       "      <th></th>\n",
       "      <th>Year</th>\n",
       "      <th>Population, male (% of total population)</th>\n",
       "      <th>Population, male</th>\n",
       "      <th>Population, female (% of total population)</th>\n",
       "      <th>Population, female</th>\n",
       "      <th>Population, total</th>\n",
       "      <th>Population growth (annual %)</th>\n",
       "      <th>Age dependency ratio, young (% of working-age population)</th>\n",
       "      <th>Age dependency ratio, old (% of working-age population)</th>\n",
       "      <th>Age dependency ratio (% of working-age population)</th>\n",
       "      <th>...</th>\n",
       "      <th>Adolescent fertility rate (births per 1,000 women ages 15-19)</th>\n",
       "      <th>Refugee population by country or territory of asylum</th>\n",
       "      <th>Net migration</th>\n",
       "      <th>Physicians (per 1,000 people)</th>\n",
       "      <th>Mortality rate, under-5, male (per 1,000 live births)</th>\n",
       "      <th>Mortality rate, under-5, female (per 1,000 live births)</th>\n",
       "      <th>Mortality rate, under-5 (per 1,000 live births)</th>\n",
       "      <th>Number of neonatal deaths</th>\n",
       "      <th>Number of under-five deaths</th>\n",
       "      <th>Number of infant deaths</th>\n",
       "    </tr>\n",
       "  </thead>\n",
       "  <tbody>\n",
       "    <tr>\n",
       "      <th>0</th>\n",
       "      <td>1961</td>\n",
       "      <td>50.518259</td>\n",
       "      <td>9230191</td>\n",
       "      <td>49.481741</td>\n",
       "      <td>9040809</td>\n",
       "      <td>18271000</td>\n",
       "      <td>1.999185</td>\n",
       "      <td>57.997443</td>\n",
       "      <td>13.148538</td>\n",
       "      <td>71.145981</td>\n",
       "      <td>...</td>\n",
       "      <td>55.546</td>\n",
       "      <td>44492</td>\n",
       "      <td>24186</td>\n",
       "      <td>1.1000</td>\n",
       "      <td>35.2</td>\n",
       "      <td>27.7</td>\n",
       "      <td>31.5</td>\n",
       "      <td>NaN</td>\n",
       "      <td>14726</td>\n",
       "      <td>12582</td>\n",
       "    </tr>\n",
       "    <tr>\n",
       "      <th>1</th>\n",
       "      <td>1962</td>\n",
       "      <td>50.448813</td>\n",
       "      <td>9390542</td>\n",
       "      <td>49.551192</td>\n",
       "      <td>9223459</td>\n",
       "      <td>18614000</td>\n",
       "      <td>1.859888</td>\n",
       "      <td>58.088118</td>\n",
       "      <td>13.163742</td>\n",
       "      <td>71.251860</td>\n",
       "      <td>...</td>\n",
       "      <td>52.370</td>\n",
       "      <td>12282</td>\n",
       "      <td>26210</td>\n",
       "      <td>1.2000</td>\n",
       "      <td>34.0</td>\n",
       "      <td>26.8</td>\n",
       "      <td>30.5</td>\n",
       "      <td>NaN</td>\n",
       "      <td>14127</td>\n",
       "      <td>12032</td>\n",
       "    </tr>\n",
       "    <tr>\n",
       "      <th>2</th>\n",
       "      <td>1963</td>\n",
       "      <td>50.381390</td>\n",
       "      <td>9554327</td>\n",
       "      <td>49.618610</td>\n",
       "      <td>9409673</td>\n",
       "      <td>18964000</td>\n",
       "      <td>1.862846</td>\n",
       "      <td>57.859900</td>\n",
       "      <td>13.143824</td>\n",
       "      <td>71.003724</td>\n",
       "      <td>...</td>\n",
       "      <td>50.662</td>\n",
       "      <td>10946</td>\n",
       "      <td>40913</td>\n",
       "      <td>1.3000</td>\n",
       "      <td>32.8</td>\n",
       "      <td>25.7</td>\n",
       "      <td>29.4</td>\n",
       "      <td>NaN</td>\n",
       "      <td>13490</td>\n",
       "      <td>11460</td>\n",
       "    </tr>\n",
       "    <tr>\n",
       "      <th>3</th>\n",
       "      <td>1964</td>\n",
       "      <td>50.321204</td>\n",
       "      <td>9724573</td>\n",
       "      <td>49.678790</td>\n",
       "      <td>9600426</td>\n",
       "      <td>19325000</td>\n",
       "      <td>1.885715</td>\n",
       "      <td>57.306955</td>\n",
       "      <td>13.112797</td>\n",
       "      <td>70.419752</td>\n",
       "      <td>...</td>\n",
       "      <td>48.539</td>\n",
       "      <td>10178</td>\n",
       "      <td>58965</td>\n",
       "      <td>1.3000</td>\n",
       "      <td>31.6</td>\n",
       "      <td>24.8</td>\n",
       "      <td>28.2</td>\n",
       "      <td>NaN</td>\n",
       "      <td>12758</td>\n",
       "      <td>10804</td>\n",
       "    </tr>\n",
       "    <tr>\n",
       "      <th>4</th>\n",
       "      <td>1965</td>\n",
       "      <td>50.268043</td>\n",
       "      <td>9891746</td>\n",
       "      <td>49.731957</td>\n",
       "      <td>9786254</td>\n",
       "      <td>19678000</td>\n",
       "      <td>1.810167</td>\n",
       "      <td>56.439516</td>\n",
       "      <td>13.088879</td>\n",
       "      <td>69.528395</td>\n",
       "      <td>...</td>\n",
       "      <td>47.892</td>\n",
       "      <td>9980</td>\n",
       "      <td>103588</td>\n",
       "      <td>1.3000</td>\n",
       "      <td>30.2</td>\n",
       "      <td>23.9</td>\n",
       "      <td>27.1</td>\n",
       "      <td>NaN</td>\n",
       "      <td>11684</td>\n",
       "      <td>9818</td>\n",
       "    </tr>\n",
       "    <tr>\n",
       "      <th>...</th>\n",
       "      <td>...</td>\n",
       "      <td>...</td>\n",
       "      <td>...</td>\n",
       "      <td>...</td>\n",
       "      <td>...</td>\n",
       "      <td>...</td>\n",
       "      <td>...</td>\n",
       "      <td>...</td>\n",
       "      <td>...</td>\n",
       "      <td>...</td>\n",
       "      <td>...</td>\n",
       "      <td>...</td>\n",
       "      <td>...</td>\n",
       "      <td>...</td>\n",
       "      <td>...</td>\n",
       "      <td>...</td>\n",
       "      <td>...</td>\n",
       "      <td>...</td>\n",
       "      <td>...</td>\n",
       "      <td>...</td>\n",
       "      <td>...</td>\n",
       "    </tr>\n",
       "    <tr>\n",
       "      <th>56</th>\n",
       "      <td>2017</td>\n",
       "      <td>49.632517</td>\n",
       "      <td>18138320</td>\n",
       "      <td>50.367480</td>\n",
       "      <td>18406915</td>\n",
       "      <td>36545236</td>\n",
       "      <td>1.199521</td>\n",
       "      <td>24.124458</td>\n",
       "      <td>25.023597</td>\n",
       "      <td>49.148056</td>\n",
       "      <td>...</td>\n",
       "      <td>8.054</td>\n",
       "      <td>104768</td>\n",
       "      <td>361274</td>\n",
       "      <td>2.6102</td>\n",
       "      <td>5.6</td>\n",
       "      <td>4.9</td>\n",
       "      <td>5.3</td>\n",
       "      <td>1299.0</td>\n",
       "      <td>1962</td>\n",
       "      <td>1712</td>\n",
       "    </tr>\n",
       "    <tr>\n",
       "      <th>57</th>\n",
       "      <td>2018</td>\n",
       "      <td>49.657362</td>\n",
       "      <td>18405543</td>\n",
       "      <td>50.342638</td>\n",
       "      <td>18659541</td>\n",
       "      <td>37065084</td>\n",
       "      <td>1.412456</td>\n",
       "      <td>24.098516</td>\n",
       "      <td>25.703142</td>\n",
       "      <td>49.801657</td>\n",
       "      <td>...</td>\n",
       "      <td>7.094</td>\n",
       "      <td>114101</td>\n",
       "      <td>417974</td>\n",
       "      <td>2.4280</td>\n",
       "      <td>5.6</td>\n",
       "      <td>4.9</td>\n",
       "      <td>5.2</td>\n",
       "      <td>1275.0</td>\n",
       "      <td>1941</td>\n",
       "      <td>1697</td>\n",
       "    </tr>\n",
       "    <tr>\n",
       "      <th>58</th>\n",
       "      <td>2019</td>\n",
       "      <td>49.679793</td>\n",
       "      <td>18680213</td>\n",
       "      <td>50.320210</td>\n",
       "      <td>18921018</td>\n",
       "      <td>37601230</td>\n",
       "      <td>1.436137</td>\n",
       "      <td>24.052564</td>\n",
       "      <td>26.424826</td>\n",
       "      <td>50.477390</td>\n",
       "      <td>...</td>\n",
       "      <td>6.888</td>\n",
       "      <td>101757</td>\n",
       "      <td>391914</td>\n",
       "      <td>2.4350</td>\n",
       "      <td>5.5</td>\n",
       "      <td>4.8</td>\n",
       "      <td>5.2</td>\n",
       "      <td>1251.0</td>\n",
       "      <td>1897</td>\n",
       "      <td>1659</td>\n",
       "    </tr>\n",
       "    <tr>\n",
       "      <th>59</th>\n",
       "      <td>2020</td>\n",
       "      <td>49.689062</td>\n",
       "      <td>18885404</td>\n",
       "      <td>50.310938</td>\n",
       "      <td>19121762</td>\n",
       "      <td>38007166</td>\n",
       "      <td>1.073796</td>\n",
       "      <td>24.001803</td>\n",
       "      <td>27.253896</td>\n",
       "      <td>51.255699</td>\n",
       "      <td>...</td>\n",
       "      <td>6.985</td>\n",
       "      <td>109214</td>\n",
       "      <td>195181</td>\n",
       "      <td>2.4330</td>\n",
       "      <td>5.5</td>\n",
       "      <td>4.7</td>\n",
       "      <td>5.1</td>\n",
       "      <td>1271.0</td>\n",
       "      <td>1878</td>\n",
       "      <td>1645</td>\n",
       "    </tr>\n",
       "    <tr>\n",
       "      <th>60</th>\n",
       "      <td>2021</td>\n",
       "      <td>49.692046</td>\n",
       "      <td>18995529</td>\n",
       "      <td>50.307954</td>\n",
       "      <td>19230969</td>\n",
       "      <td>38226498</td>\n",
       "      <td>0.575422</td>\n",
       "      <td>23.930772</td>\n",
       "      <td>28.171246</td>\n",
       "      <td>52.102017</td>\n",
       "      <td>...</td>\n",
       "      <td>6.978</td>\n",
       "      <td>130125</td>\n",
       "      <td>195181</td>\n",
       "      <td>2.4640</td>\n",
       "      <td>5.4</td>\n",
       "      <td>4.7</td>\n",
       "      <td>5.0</td>\n",
       "      <td>1274.0</td>\n",
       "      <td>1873</td>\n",
       "      <td>1646</td>\n",
       "    </tr>\n",
       "  </tbody>\n",
       "</table>\n",
       "<p>61 rows × 86 columns</p>\n",
       "</div>"
      ],
      "text/plain": [
       "    Year  Population, male (% of total population)  Population, male  \\\n",
       "0   1961                                 50.518259           9230191   \n",
       "1   1962                                 50.448813           9390542   \n",
       "2   1963                                 50.381390           9554327   \n",
       "3   1964                                 50.321204           9724573   \n",
       "4   1965                                 50.268043           9891746   \n",
       "..   ...                                       ...               ...   \n",
       "56  2017                                 49.632517          18138320   \n",
       "57  2018                                 49.657362          18405543   \n",
       "58  2019                                 49.679793          18680213   \n",
       "59  2020                                 49.689062          18885404   \n",
       "60  2021                                 49.692046          18995529   \n",
       "\n",
       "    Population, female (% of total population)  Population, female  \\\n",
       "0                                    49.481741             9040809   \n",
       "1                                    49.551192             9223459   \n",
       "2                                    49.618610             9409673   \n",
       "3                                    49.678790             9600426   \n",
       "4                                    49.731957             9786254   \n",
       "..                                         ...                 ...   \n",
       "56                                   50.367480            18406915   \n",
       "57                                   50.342638            18659541   \n",
       "58                                   50.320210            18921018   \n",
       "59                                   50.310938            19121762   \n",
       "60                                   50.307954            19230969   \n",
       "\n",
       "    Population, total  Population growth (annual %)  \\\n",
       "0            18271000                      1.999185   \n",
       "1            18614000                      1.859888   \n",
       "2            18964000                      1.862846   \n",
       "3            19325000                      1.885715   \n",
       "4            19678000                      1.810167   \n",
       "..                ...                           ...   \n",
       "56           36545236                      1.199521   \n",
       "57           37065084                      1.412456   \n",
       "58           37601230                      1.436137   \n",
       "59           38007166                      1.073796   \n",
       "60           38226498                      0.575422   \n",
       "\n",
       "    Age dependency ratio, young (% of working-age population)  \\\n",
       "0                                           57.997443           \n",
       "1                                           58.088118           \n",
       "2                                           57.859900           \n",
       "3                                           57.306955           \n",
       "4                                           56.439516           \n",
       "..                                                ...           \n",
       "56                                          24.124458           \n",
       "57                                          24.098516           \n",
       "58                                          24.052564           \n",
       "59                                          24.001803           \n",
       "60                                          23.930772           \n",
       "\n",
       "    Age dependency ratio, old (% of working-age population)  \\\n",
       "0                                           13.148538         \n",
       "1                                           13.163742         \n",
       "2                                           13.143824         \n",
       "3                                           13.112797         \n",
       "4                                           13.088879         \n",
       "..                                                ...         \n",
       "56                                          25.023597         \n",
       "57                                          25.703142         \n",
       "58                                          26.424826         \n",
       "59                                          27.253896         \n",
       "60                                          28.171246         \n",
       "\n",
       "    Age dependency ratio (% of working-age population)  ...  \\\n",
       "0                                           71.145981   ...   \n",
       "1                                           71.251860   ...   \n",
       "2                                           71.003724   ...   \n",
       "3                                           70.419752   ...   \n",
       "4                                           69.528395   ...   \n",
       "..                                                ...   ...   \n",
       "56                                          49.148056   ...   \n",
       "57                                          49.801657   ...   \n",
       "58                                          50.477390   ...   \n",
       "59                                          51.255699   ...   \n",
       "60                                          52.102017   ...   \n",
       "\n",
       "    Adolescent fertility rate (births per 1,000 women ages 15-19)  \\\n",
       "0                                              55.546               \n",
       "1                                              52.370               \n",
       "2                                              50.662               \n",
       "3                                              48.539               \n",
       "4                                              47.892               \n",
       "..                                                ...               \n",
       "56                                              8.054               \n",
       "57                                              7.094               \n",
       "58                                              6.888               \n",
       "59                                              6.985               \n",
       "60                                              6.978               \n",
       "\n",
       "    Refugee population by country or territory of asylum  Net migration  \\\n",
       "0                                               44492             24186   \n",
       "1                                               12282             26210   \n",
       "2                                               10946             40913   \n",
       "3                                               10178             58965   \n",
       "4                                                9980            103588   \n",
       "..                                                ...               ...   \n",
       "56                                             104768            361274   \n",
       "57                                             114101            417974   \n",
       "58                                             101757            391914   \n",
       "59                                             109214            195181   \n",
       "60                                             130125            195181   \n",
       "\n",
       "    Physicians (per 1,000 people)  \\\n",
       "0                          1.1000   \n",
       "1                          1.2000   \n",
       "2                          1.3000   \n",
       "3                          1.3000   \n",
       "4                          1.3000   \n",
       "..                            ...   \n",
       "56                         2.6102   \n",
       "57                         2.4280   \n",
       "58                         2.4350   \n",
       "59                         2.4330   \n",
       "60                         2.4640   \n",
       "\n",
       "    Mortality rate, under-5, male (per 1,000 live births)  \\\n",
       "0                                                35.2       \n",
       "1                                                34.0       \n",
       "2                                                32.8       \n",
       "3                                                31.6       \n",
       "4                                                30.2       \n",
       "..                                                ...       \n",
       "56                                                5.6       \n",
       "57                                                5.6       \n",
       "58                                                5.5       \n",
       "59                                                5.5       \n",
       "60                                                5.4       \n",
       "\n",
       "    Mortality rate, under-5, female (per 1,000 live births)  \\\n",
       "0                                                27.7         \n",
       "1                                                26.8         \n",
       "2                                                25.7         \n",
       "3                                                24.8         \n",
       "4                                                23.9         \n",
       "..                                                ...         \n",
       "56                                                4.9         \n",
       "57                                                4.9         \n",
       "58                                                4.8         \n",
       "59                                                4.7         \n",
       "60                                                4.7         \n",
       "\n",
       "    Mortality rate, under-5 (per 1,000 live births)  \\\n",
       "0                                              31.5   \n",
       "1                                              30.5   \n",
       "2                                              29.4   \n",
       "3                                              28.2   \n",
       "4                                              27.1   \n",
       "..                                              ...   \n",
       "56                                              5.3   \n",
       "57                                              5.2   \n",
       "58                                              5.2   \n",
       "59                                              5.1   \n",
       "60                                              5.0   \n",
       "\n",
       "    Number of neonatal deaths  Number of under-five deaths  \\\n",
       "0                         NaN                        14726   \n",
       "1                         NaN                        14127   \n",
       "2                         NaN                        13490   \n",
       "3                         NaN                        12758   \n",
       "4                         NaN                        11684   \n",
       "..                        ...                          ...   \n",
       "56                     1299.0                         1962   \n",
       "57                     1275.0                         1941   \n",
       "58                     1251.0                         1897   \n",
       "59                     1271.0                         1878   \n",
       "60                     1274.0                         1873   \n",
       "\n",
       "    Number of infant deaths  \n",
       "0                     12582  \n",
       "1                     12032  \n",
       "2                     11460  \n",
       "3                     10804  \n",
       "4                      9818  \n",
       "..                      ...  \n",
       "56                     1712  \n",
       "57                     1697  \n",
       "58                     1659  \n",
       "59                     1645  \n",
       "60                     1646  \n",
       "\n",
       "[61 rows x 86 columns]"
      ]
     },
     "execution_count": 16,
     "metadata": {},
     "output_type": "execute_result"
    }
   ],
   "source": [
    "df = pd.read_csv(r'..\\data\\processed\\Canada.csv')\n",
    "\n",
    "df"
   ]
  },
  {
   "cell_type": "code",
   "execution_count": 17,
   "metadata": {},
   "outputs": [
    {
     "name": "stdout",
     "output_type": "stream",
     "text": [
      "<class 'pandas.core.frame.DataFrame'>\n",
      "RangeIndex: 61 entries, 0 to 60\n",
      "Data columns (total 86 columns):\n",
      " #   Column                                                         Non-Null Count  Dtype  \n",
      "---  ------                                                         --------------  -----  \n",
      " 0   Year                                                           61 non-null     int64  \n",
      " 1   Population, male (% of total population)                       61 non-null     float64\n",
      " 2   Population, male                                               61 non-null     int64  \n",
      " 3   Population, female (% of total population)                     61 non-null     float64\n",
      " 4   Population, female                                             61 non-null     int64  \n",
      " 5   Population, total                                              61 non-null     int64  \n",
      " 6   Population growth (annual %)                                   61 non-null     float64\n",
      " 7   Age dependency ratio, young (% of working-age population)      61 non-null     float64\n",
      " 8   Age dependency ratio, old (% of working-age population)        61 non-null     float64\n",
      " 9   Age dependency ratio (% of working-age population)             61 non-null     float64\n",
      " 10  Sex ratio at birth (male births per female births)             61 non-null     float64\n",
      " 11  Population ages 80 and above, male (% of male population)      61 non-null     float64\n",
      " 12  Population ages 80 and above, female (% of female population)  61 non-null     float64\n",
      " 13  Population ages 75-79, male (% of male population)             61 non-null     float64\n",
      " 14  Population ages 75-79, female (% of female population)         61 non-null     float64\n",
      " 15  Population ages 70-74, male (% of male population)             61 non-null     float64\n",
      " 16  Population ages 70-74, female (% of female population)         61 non-null     float64\n",
      " 17  Population ages 65 and above (% of total population)           61 non-null     float64\n",
      " 18  Population ages 65 and above, total                            61 non-null     int64  \n",
      " 19  Population ages 65 and above, male (% of male population)      61 non-null     float64\n",
      " 20  Population ages 65 and above, male                             61 non-null     int64  \n",
      " 21  Population ages 65 and above, female (% of female population)  61 non-null     float64\n",
      " 22  Population ages 65 and above, female                           61 non-null     int64  \n",
      " 23  Population ages 65-69, male (% of male population)             61 non-null     float64\n",
      " 24  Population ages 65-69, female (% of female population)         61 non-null     float64\n",
      " 25  Population ages 60-64, male (% of male population)             61 non-null     float64\n",
      " 26  Population ages 60-64, female (% of female population)         61 non-null     float64\n",
      " 27  Population ages 55-59, male (% of male population)             61 non-null     float64\n",
      " 28  Population ages 55-59, female (% of female population)         61 non-null     float64\n",
      " 29  Population ages 50-54, male (% of male population)             61 non-null     float64\n",
      " 30  Population ages 50-54, female (% of female population)         61 non-null     float64\n",
      " 31  Population ages 45-49, male (% of male population)             61 non-null     float64\n",
      " 32  Population ages 45-49, female (% of female population)         61 non-null     float64\n",
      " 33  Population ages 40-44, male (% of male population)             61 non-null     float64\n",
      " 34  Population ages 40-44, female (% of female population)         61 non-null     float64\n",
      " 35  Population ages 35-39, male (% of male population)             61 non-null     float64\n",
      " 36  Population ages 35-39, female (% of female population)         61 non-null     float64\n",
      " 37  Population ages 30-34, male (% of male population)             61 non-null     float64\n",
      " 38  Population ages 30-34, female (% of female population)         61 non-null     float64\n",
      " 39  Population ages 25-29, male (% of male population)             61 non-null     float64\n",
      " 40  Population ages 25-29, female (% of female population)         61 non-null     float64\n",
      " 41  Population ages 20-24, male (% of male population)             61 non-null     float64\n",
      " 42  Population ages 20-24, female (% of female population)         61 non-null     float64\n",
      " 43  Population ages 15-64 (% of total population)                  61 non-null     float64\n",
      " 44  Population ages 15-64, total                                   61 non-null     int64  \n",
      " 45  Population ages 15-64, male (% of male population)             61 non-null     float64\n",
      " 46  Population ages 15-64, male                                    61 non-null     int64  \n",
      " 47  Population ages 15-64, female (% of female population)         61 non-null     float64\n",
      " 48  Population ages 15-64, female                                  61 non-null     int64  \n",
      " 49  Population ages 15-19, male (% of male population)             61 non-null     float64\n",
      " 50  Population ages 15-19, female (% of female population)         61 non-null     float64\n",
      " 51  Population ages 10-14, male (% of male population)             61 non-null     float64\n",
      " 52  Population ages 10-14, female (% of female population)         61 non-null     float64\n",
      " 53  Population ages 05-09, male (% of male population)             61 non-null     float64\n",
      " 54  Population ages 05-09, female (% of female population)         61 non-null     float64\n",
      " 55  Population ages 0-14 (% of total population)                   61 non-null     float64\n",
      " 56  Population ages 0-14, total                                    61 non-null     int64  \n",
      " 57  Population ages 0-14, male (% of male population)              61 non-null     float64\n",
      " 58  Population ages 0-14, male                                     61 non-null     int64  \n",
      " 59  Population ages 0-14, female (% of female population)          61 non-null     float64\n",
      " 60  Population ages 0-14, female                                   61 non-null     int64  \n",
      " 61  Population ages 00-04, male (% of male population)             61 non-null     float64\n",
      " 62  Population ages 00-04, female (% of female population)         61 non-null     float64\n",
      " 63  Survival to age 65, male (% of cohort)                         61 non-null     float64\n",
      " 64  Survival to age 65, female (% of cohort)                       61 non-null     float64\n",
      " 65  Fertility rate, total (births per woman)                       61 non-null     float64\n",
      " 66  Life expectancy at birth, male (years)                         61 non-null     float64\n",
      " 67  Life expectancy at birth, total (years)                        61 non-null     float64\n",
      " 68  Life expectancy at birth, female (years)                       61 non-null     float64\n",
      " 69  Mortality rate, infant, male (per 1,000 live births)           61 non-null     float64\n",
      " 70  Mortality rate, infant (per 1,000 live births)                 61 non-null     float64\n",
      " 71  Mortality rate, infant, female (per 1,000 live births)         61 non-null     float64\n",
      " 72  Death rate, crude (per 1,000 people)                           61 non-null     float64\n",
      " 73  Birth rate, crude (per 1,000 people)                           61 non-null     float64\n",
      " 74  Mortality rate, adult, male (per 1,000 male adults)            60 non-null     float64\n",
      " 75  Mortality rate, adult, female (per 1,000 female adults)        60 non-null     float64\n",
      " 76  Adolescent fertility rate (births per 1,000 women ages 15-19)  61 non-null     float64\n",
      " 77  Refugee population by country or territory of asylum           61 non-null     int64  \n",
      " 78  Net migration                                                  61 non-null     int64  \n",
      " 79  Physicians (per 1,000 people)                                  55 non-null     float64\n",
      " 80  Mortality rate, under-5, male (per 1,000 live births)          61 non-null     float64\n",
      " 81  Mortality rate, under-5, female (per 1,000 live births)        61 non-null     float64\n",
      " 82  Mortality rate, under-5 (per 1,000 live births)                61 non-null     float64\n",
      " 83  Number of neonatal deaths                                      52 non-null     float64\n",
      " 84  Number of under-five deaths                                    61 non-null     int64  \n",
      " 85  Number of infant deaths                                        61 non-null     int64  \n",
      "dtypes: float64(69), int64(17)\n",
      "memory usage: 41.1 KB\n"
     ]
    }
   ],
   "source": [
    "df.info()"
   ]
  },
  {
   "cell_type": "code",
   "execution_count": 18,
   "metadata": {},
   "outputs": [
    {
     "data": {
      "text/html": [
       "<div>\n",
       "<style scoped>\n",
       "    .dataframe tbody tr th:only-of-type {\n",
       "        vertical-align: middle;\n",
       "    }\n",
       "\n",
       "    .dataframe tbody tr th {\n",
       "        vertical-align: top;\n",
       "    }\n",
       "\n",
       "    .dataframe thead th {\n",
       "        text-align: right;\n",
       "    }\n",
       "</style>\n",
       "<table border=\"1\" class=\"dataframe\">\n",
       "  <thead>\n",
       "    <tr style=\"text-align: right;\">\n",
       "      <th></th>\n",
       "      <th>Year</th>\n",
       "      <th>Population, male (% of total population)</th>\n",
       "      <th>Population, male</th>\n",
       "      <th>Population, female (% of total population)</th>\n",
       "      <th>Population, female</th>\n",
       "      <th>Population, total</th>\n",
       "      <th>Population growth (annual %)</th>\n",
       "      <th>Age dependency ratio, young (% of working-age population)</th>\n",
       "      <th>Age dependency ratio, old (% of working-age population)</th>\n",
       "      <th>Age dependency ratio (% of working-age population)</th>\n",
       "      <th>...</th>\n",
       "      <th>Adolescent fertility rate (births per 1,000 women ages 15-19)</th>\n",
       "      <th>Refugee population by country or territory of asylum</th>\n",
       "      <th>Net migration</th>\n",
       "      <th>Physicians (per 1,000 people)</th>\n",
       "      <th>Mortality rate, under-5, male (per 1,000 live births)</th>\n",
       "      <th>Mortality rate, under-5, female (per 1,000 live births)</th>\n",
       "      <th>Mortality rate, under-5 (per 1,000 live births)</th>\n",
       "      <th>Number of neonatal deaths</th>\n",
       "      <th>Number of under-five deaths</th>\n",
       "      <th>Number of infant deaths</th>\n",
       "    </tr>\n",
       "  </thead>\n",
       "  <tbody>\n",
       "    <tr>\n",
       "      <th>0</th>\n",
       "      <td>1961</td>\n",
       "      <td>50.518259</td>\n",
       "      <td>9230191</td>\n",
       "      <td>49.481741</td>\n",
       "      <td>9040809</td>\n",
       "      <td>18271000</td>\n",
       "      <td>1.999185</td>\n",
       "      <td>57.997443</td>\n",
       "      <td>13.148538</td>\n",
       "      <td>71.145981</td>\n",
       "      <td>...</td>\n",
       "      <td>55.546</td>\n",
       "      <td>44492</td>\n",
       "      <td>24186</td>\n",
       "      <td>1.1</td>\n",
       "      <td>35.2</td>\n",
       "      <td>27.7</td>\n",
       "      <td>31.5</td>\n",
       "      <td>NaN</td>\n",
       "      <td>14726</td>\n",
       "      <td>12582</td>\n",
       "    </tr>\n",
       "    <tr>\n",
       "      <th>1</th>\n",
       "      <td>1962</td>\n",
       "      <td>50.448813</td>\n",
       "      <td>9390542</td>\n",
       "      <td>49.551192</td>\n",
       "      <td>9223459</td>\n",
       "      <td>18614000</td>\n",
       "      <td>1.859888</td>\n",
       "      <td>58.088118</td>\n",
       "      <td>13.163742</td>\n",
       "      <td>71.251860</td>\n",
       "      <td>...</td>\n",
       "      <td>52.370</td>\n",
       "      <td>12282</td>\n",
       "      <td>26210</td>\n",
       "      <td>1.2</td>\n",
       "      <td>34.0</td>\n",
       "      <td>26.8</td>\n",
       "      <td>30.5</td>\n",
       "      <td>NaN</td>\n",
       "      <td>14127</td>\n",
       "      <td>12032</td>\n",
       "    </tr>\n",
       "    <tr>\n",
       "      <th>2</th>\n",
       "      <td>1963</td>\n",
       "      <td>50.381390</td>\n",
       "      <td>9554327</td>\n",
       "      <td>49.618610</td>\n",
       "      <td>9409673</td>\n",
       "      <td>18964000</td>\n",
       "      <td>1.862846</td>\n",
       "      <td>57.859900</td>\n",
       "      <td>13.143824</td>\n",
       "      <td>71.003724</td>\n",
       "      <td>...</td>\n",
       "      <td>50.662</td>\n",
       "      <td>10946</td>\n",
       "      <td>40913</td>\n",
       "      <td>1.3</td>\n",
       "      <td>32.8</td>\n",
       "      <td>25.7</td>\n",
       "      <td>29.4</td>\n",
       "      <td>NaN</td>\n",
       "      <td>13490</td>\n",
       "      <td>11460</td>\n",
       "    </tr>\n",
       "    <tr>\n",
       "      <th>3</th>\n",
       "      <td>1964</td>\n",
       "      <td>50.321204</td>\n",
       "      <td>9724573</td>\n",
       "      <td>49.678790</td>\n",
       "      <td>9600426</td>\n",
       "      <td>19325000</td>\n",
       "      <td>1.885715</td>\n",
       "      <td>57.306955</td>\n",
       "      <td>13.112797</td>\n",
       "      <td>70.419752</td>\n",
       "      <td>...</td>\n",
       "      <td>48.539</td>\n",
       "      <td>10178</td>\n",
       "      <td>58965</td>\n",
       "      <td>1.3</td>\n",
       "      <td>31.6</td>\n",
       "      <td>24.8</td>\n",
       "      <td>28.2</td>\n",
       "      <td>NaN</td>\n",
       "      <td>12758</td>\n",
       "      <td>10804</td>\n",
       "    </tr>\n",
       "    <tr>\n",
       "      <th>4</th>\n",
       "      <td>1965</td>\n",
       "      <td>50.268043</td>\n",
       "      <td>9891746</td>\n",
       "      <td>49.731957</td>\n",
       "      <td>9786254</td>\n",
       "      <td>19678000</td>\n",
       "      <td>1.810167</td>\n",
       "      <td>56.439516</td>\n",
       "      <td>13.088879</td>\n",
       "      <td>69.528395</td>\n",
       "      <td>...</td>\n",
       "      <td>47.892</td>\n",
       "      <td>9980</td>\n",
       "      <td>103588</td>\n",
       "      <td>1.3</td>\n",
       "      <td>30.2</td>\n",
       "      <td>23.9</td>\n",
       "      <td>27.1</td>\n",
       "      <td>NaN</td>\n",
       "      <td>11684</td>\n",
       "      <td>9818</td>\n",
       "    </tr>\n",
       "  </tbody>\n",
       "</table>\n",
       "<p>5 rows × 86 columns</p>\n",
       "</div>"
      ],
      "text/plain": [
       "   Year  Population, male (% of total population)  Population, male  \\\n",
       "0  1961                                 50.518259           9230191   \n",
       "1  1962                                 50.448813           9390542   \n",
       "2  1963                                 50.381390           9554327   \n",
       "3  1964                                 50.321204           9724573   \n",
       "4  1965                                 50.268043           9891746   \n",
       "\n",
       "   Population, female (% of total population)  Population, female  \\\n",
       "0                                   49.481741             9040809   \n",
       "1                                   49.551192             9223459   \n",
       "2                                   49.618610             9409673   \n",
       "3                                   49.678790             9600426   \n",
       "4                                   49.731957             9786254   \n",
       "\n",
       "   Population, total  Population growth (annual %)  \\\n",
       "0           18271000                      1.999185   \n",
       "1           18614000                      1.859888   \n",
       "2           18964000                      1.862846   \n",
       "3           19325000                      1.885715   \n",
       "4           19678000                      1.810167   \n",
       "\n",
       "   Age dependency ratio, young (% of working-age population)  \\\n",
       "0                                          57.997443           \n",
       "1                                          58.088118           \n",
       "2                                          57.859900           \n",
       "3                                          57.306955           \n",
       "4                                          56.439516           \n",
       "\n",
       "   Age dependency ratio, old (% of working-age population)  \\\n",
       "0                                          13.148538         \n",
       "1                                          13.163742         \n",
       "2                                          13.143824         \n",
       "3                                          13.112797         \n",
       "4                                          13.088879         \n",
       "\n",
       "   Age dependency ratio (% of working-age population)  ...  \\\n",
       "0                                          71.145981   ...   \n",
       "1                                          71.251860   ...   \n",
       "2                                          71.003724   ...   \n",
       "3                                          70.419752   ...   \n",
       "4                                          69.528395   ...   \n",
       "\n",
       "   Adolescent fertility rate (births per 1,000 women ages 15-19)  \\\n",
       "0                                             55.546               \n",
       "1                                             52.370               \n",
       "2                                             50.662               \n",
       "3                                             48.539               \n",
       "4                                             47.892               \n",
       "\n",
       "   Refugee population by country or territory of asylum  Net migration  \\\n",
       "0                                              44492             24186   \n",
       "1                                              12282             26210   \n",
       "2                                              10946             40913   \n",
       "3                                              10178             58965   \n",
       "4                                               9980            103588   \n",
       "\n",
       "   Physicians (per 1,000 people)  \\\n",
       "0                            1.1   \n",
       "1                            1.2   \n",
       "2                            1.3   \n",
       "3                            1.3   \n",
       "4                            1.3   \n",
       "\n",
       "   Mortality rate, under-5, male (per 1,000 live births)  \\\n",
       "0                                               35.2       \n",
       "1                                               34.0       \n",
       "2                                               32.8       \n",
       "3                                               31.6       \n",
       "4                                               30.2       \n",
       "\n",
       "   Mortality rate, under-5, female (per 1,000 live births)  \\\n",
       "0                                               27.7         \n",
       "1                                               26.8         \n",
       "2                                               25.7         \n",
       "3                                               24.8         \n",
       "4                                               23.9         \n",
       "\n",
       "   Mortality rate, under-5 (per 1,000 live births)  Number of neonatal deaths  \\\n",
       "0                                             31.5                        NaN   \n",
       "1                                             30.5                        NaN   \n",
       "2                                             29.4                        NaN   \n",
       "3                                             28.2                        NaN   \n",
       "4                                             27.1                        NaN   \n",
       "\n",
       "   Number of under-five deaths  Number of infant deaths  \n",
       "0                        14726                    12582  \n",
       "1                        14127                    12032  \n",
       "2                        13490                    11460  \n",
       "3                        12758                    10804  \n",
       "4                        11684                     9818  \n",
       "\n",
       "[5 rows x 86 columns]"
      ]
     },
     "execution_count": 18,
     "metadata": {},
     "output_type": "execute_result"
    }
   ],
   "source": [
    "df.head()"
   ]
  },
  {
   "cell_type": "code",
   "execution_count": 19,
   "metadata": {},
   "outputs": [
    {
     "data": {
      "image/png": "[encoded data removed]",
      "text/plain": [
       "<Figure size 1000x500 with 4 Axes>"
      ]
     },
     "metadata": {},
     "output_type": "display_data"
    }
   ],
   "source": [
    "columns_of_interest = [\"Fertility rate, total (births per woman)\", \"Population growth (annual %)\", \"Sex ratio at birth (male births per female births)\", \"Life expectancy at birth, total (years)\"]\n",
    "df_selected = df[columns_of_interest]\n",
    "\n",
    "df_selected.hist(figsize=(10, 5), bins=20)\n",
    "plt.suptitle('Histograms for Selected Columns')\n",
    "plt.show()\n"
   ]
  },
  {
   "cell_type": "code",
   "execution_count": 20,
   "metadata": {},
   "outputs": [
    {
     "data": {
      "image/png": "[encoded data removed]",
      "text/plain": [
       "<Figure size 1000x800 with 2 Axes>"
      ]
     },
     "metadata": {},
     "output_type": "display_data"
    }
   ],
   "source": [
    "relevant_columns = [\n",
    "    'Fertility rate, total (births per woman)', \n",
    "    'Population growth (annual %)', \n",
    "    'Net migration',\n",
    "    'Sex ratio at birth (male births per female births)',\n",
    "    'Life expectancy at birth, total (years)'\n",
    "]\n",
    "df_selected = df[relevant_columns]\n",
    "\n",
    "correlation_matrix = df_selected.corr().round(2)\n",
    "\n",
    "plt.figure(figsize=(10, 8))\n",
    "sns.heatmap(correlation_matrix, annot=True, cmap='coolwarm', vmin=-1, vmax=1, center=0)\n",
    "plt.title('Correlation Matrix for Selected Variables')\n",
    "plt.xticks(rotation=45, ha='right')\n",
    "plt.yticks(rotation=0)\n",
    "plt.tight_layout()\n",
    "plt.show()\n"
   ]
  },
  {
   "cell_type": "code",
   "execution_count": 21,
   "metadata": {},
   "outputs": [
    {
     "name": "stdout",
     "output_type": "stream",
     "text": [
      "Indicator Name                 Country Name  \\\n",
      "0                               Afghanistan   \n",
      "1               Africa Eastern and Southern   \n",
      "2                Africa Western and Central   \n",
      "3                                   Albania   \n",
      "4                                   Algeria   \n",
      "\n",
      "Indicator Name  Fertility rate, total (births per woman)  Net migration  \\\n",
      "0                                               4.643000      -183672.0   \n",
      "1                                               4.354709      -179444.0   \n",
      "2                                               4.978662      -264802.0   \n",
      "3                                               1.390000       -10612.0   \n",
      "4                                               2.889000       -18797.0   \n",
      "\n",
      "Indicator Name  Population growth (annual %)  \n",
      "0                                   2.851358  \n",
      "1                                   2.607472  \n",
      "2                                   2.573377  \n",
      "3                                  -0.926918  \n",
      "4                                   1.657703  \n"
     ]
    }
   ],
   "source": [
    "# Load the data, skipping the first three rows\n",
    "df = pd.read_csv(r'..\\data\\raw\\raw_data.csv', skiprows=3)\n",
    "\n",
    "# Filter rows based on the 'Indicator Name' column\n",
    "filtered_df = df[df['Indicator Name'].isin([\n",
    "    'Population growth (annual %)', \n",
    "    'Fertility rate, total (births per woman)', \n",
    "    'Net migration'\n",
    "])]\n",
    "\n",
    "# Select only the relevant columns\n",
    "df_selected = filtered_df[['Country Name', 'Indicator Name', '2021.0']]\n",
    "\n",
    "# Pivot the DataFrame to have 'Country Name' as the index\n",
    "df_pivot = df_selected.pivot_table(index='Country Name', columns='Indicator Name', values='2021.0')\n",
    "\n",
    "# Reset the index to make 'Country Name' a column again\n",
    "df_pivot = df_pivot.reset_index()\n",
    "\n",
    "print(df_pivot.head())"
   ]
  },
  {
   "cell_type": "code",
   "execution_count": 22,
   "metadata": {},
   "outputs": [
    {
     "data": {
      "text/html": [
       "<div>\n",
       "<style scoped>\n",
       "    .dataframe tbody tr th:only-of-type {\n",
       "        vertical-align: middle;\n",
       "    }\n",
       "\n",
       "    .dataframe tbody tr th {\n",
       "        vertical-align: top;\n",
       "    }\n",
       "\n",
       "    .dataframe thead th {\n",
       "        text-align: right;\n",
       "    }\n",
       "</style>\n",
       "<table border=\"1\" class=\"dataframe\">\n",
       "  <thead>\n",
       "    <tr style=\"text-align: right;\">\n",
       "      <th>Indicator Name</th>\n",
       "      <th>Country Name</th>\n",
       "      <th>Fertility rate, total (births per woman)</th>\n",
       "      <th>Net migration</th>\n",
       "      <th>Population growth (annual %)</th>\n",
       "    </tr>\n",
       "  </thead>\n",
       "  <tbody>\n",
       "    <tr>\n",
       "      <th>0</th>\n",
       "      <td>Afghanistan</td>\n",
       "      <td>4.643000</td>\n",
       "      <td>-183672.0</td>\n",
       "      <td>2.851358</td>\n",
       "    </tr>\n",
       "    <tr>\n",
       "      <th>1</th>\n",
       "      <td>Africa Eastern and Southern</td>\n",
       "      <td>4.354709</td>\n",
       "      <td>-179444.0</td>\n",
       "      <td>2.607472</td>\n",
       "    </tr>\n",
       "    <tr>\n",
       "      <th>2</th>\n",
       "      <td>Africa Western and Central</td>\n",
       "      <td>4.978662</td>\n",
       "      <td>-264802.0</td>\n",
       "      <td>2.573377</td>\n",
       "    </tr>\n",
       "    <tr>\n",
       "      <th>3</th>\n",
       "      <td>Albania</td>\n",
       "      <td>1.390000</td>\n",
       "      <td>-10612.0</td>\n",
       "      <td>-0.926918</td>\n",
       "    </tr>\n",
       "    <tr>\n",
       "      <th>4</th>\n",
       "      <td>Algeria</td>\n",
       "      <td>2.889000</td>\n",
       "      <td>-18797.0</td>\n",
       "      <td>1.657703</td>\n",
       "    </tr>\n",
       "    <tr>\n",
       "      <th>...</th>\n",
       "      <td>...</td>\n",
       "      <td>...</td>\n",
       "      <td>...</td>\n",
       "      <td>...</td>\n",
       "    </tr>\n",
       "    <tr>\n",
       "      <th>252</th>\n",
       "      <td>Uzbekistan</td>\n",
       "      <td>3.173000</td>\n",
       "      <td>-39201.0</td>\n",
       "      <td>1.975706</td>\n",
       "    </tr>\n",
       "    <tr>\n",
       "      <th>253</th>\n",
       "      <td>Venezuela, RB</td>\n",
       "      <td>2.211000</td>\n",
       "      <td>-525116.0</td>\n",
       "      <td>-1.025179</td>\n",
       "    </tr>\n",
       "    <tr>\n",
       "      <th>254</th>\n",
       "      <td>Viet Nam</td>\n",
       "      <td>1.944000</td>\n",
       "      <td>-992.0</td>\n",
       "      <td>0.844182</td>\n",
       "    </tr>\n",
       "    <tr>\n",
       "      <th>255</th>\n",
       "      <td>Virgin Islands (U.S.)</td>\n",
       "      <td>2.010000</td>\n",
       "      <td>-224.0</td>\n",
       "      <td>-0.395928</td>\n",
       "    </tr>\n",
       "    <tr>\n",
       "      <th>256</th>\n",
       "      <td>West Bank and Gaza</td>\n",
       "      <td>3.504000</td>\n",
       "      <td>-12369.0</td>\n",
       "      <td>2.457039</td>\n",
       "    </tr>\n",
       "  </tbody>\n",
       "</table>\n",
       "<p>257 rows × 4 columns</p>\n",
       "</div>"
      ],
      "text/plain": [
       "Indicator Name                 Country Name  \\\n",
       "0                               Afghanistan   \n",
       "1               Africa Eastern and Southern   \n",
       "2                Africa Western and Central   \n",
       "3                                   Albania   \n",
       "4                                   Algeria   \n",
       "..                                      ...   \n",
       "252                              Uzbekistan   \n",
       "253                           Venezuela, RB   \n",
       "254                                Viet Nam   \n",
       "255                   Virgin Islands (U.S.)   \n",
       "256                      West Bank and Gaza   \n",
       "\n",
       "Indicator Name  Fertility rate, total (births per woman)  Net migration  \\\n",
       "0                                               4.643000      -183672.0   \n",
       "1                                               4.354709      -179444.0   \n",
       "2                                               4.978662      -264802.0   \n",
       "3                                               1.390000       -10612.0   \n",
       "4                                               2.889000       -18797.0   \n",
       "..                                                   ...            ...   \n",
       "252                                             3.173000       -39201.0   \n",
       "253                                             2.211000      -525116.0   \n",
       "254                                             1.944000         -992.0   \n",
       "255                                             2.010000         -224.0   \n",
       "256                                             3.504000       -12369.0   \n",
       "\n",
       "Indicator Name  Population growth (annual %)  \n",
       "0                                   2.851358  \n",
       "1                                   2.607472  \n",
       "2                                   2.573377  \n",
       "3                                  -0.926918  \n",
       "4                                   1.657703  \n",
       "..                                       ...  \n",
       "252                                 1.975706  \n",
       "253                                -1.025179  \n",
       "254                                 0.844182  \n",
       "255                                -0.395928  \n",
       "256                                 2.457039  \n",
       "\n",
       "[257 rows x 4 columns]"
      ]
     },
     "execution_count": 22,
     "metadata": {},
     "output_type": "execute_result"
    }
   ],
   "source": [
    "df_pivot"
   ]
  },
  {
   "cell_type": "code",
   "execution_count": 23,
   "metadata": {},
   "outputs": [
    {
     "name": "stdout",
     "output_type": "stream",
     "text": [
      "Index(['Country Name', 'Fertility rate, total (births per woman)',\n",
      "       'Net migration', 'Population growth (annual %)'],\n",
      "      dtype='object', name='Indicator Name')\n"
     ]
    }
   ],
   "source": [
    "print(df_pivot.columns)"
   ]
  },
  {
   "cell_type": "code",
   "execution_count": 24,
   "metadata": {},
   "outputs": [],
   "source": [
    "df_pivot.to_csv(r'../data/processed/pivot_table.csv', index=False)"
   ]
  },
  {
   "cell_type": "code",
   "execution_count": 25,
   "metadata": {},
   "outputs": [
    {
     "data": {
      "application/vnd.plotly.v1+json": {
       "config": {
        "plotlyServerURL": "https://plot.ly"
       },
       "data": [
        {
         "coloraxis": "coloraxis",
         "geo": "geo",
         "hovertemplate": "<b>%{hovertext}</b><br><br>Country Name=%{location}<br>Fertility rate, total (births per woman)=%{z}<extra></extra>",
         "hovertext": [
          "Afghanistan",
          "Africa Eastern and Southern",
          "Africa Western and Central",
          "Albania",
          "Algeria",
          "American Samoa",
          "Andorra",
          "Angola",
          "Antigua and Barbuda",
          "Arab World",
          "Argentina",
          "Armenia",
          "Aruba",
          "Australia",
          "Austria",
          "Azerbaijan",
          "Bahamas, The",
          "Bahrain",
          "Bangladesh",
          "Barbados",
          "Belarus",
          "Belgium",
          "Belize",
          "Benin",
          "Bermuda",
          "Bhutan",
          "Bolivia",
          "Bosnia and Herzegovina",
          "Botswana",
          "Brazil",
          "British Virgin Islands",
          "Brunei Darussalam",
          "Bulgaria",
          "Burkina Faso",
          "Burundi",
          "Cabo Verde",
          "Cambodia",
          "Cameroon",
          "Canada",
          "Caribbean small states",
          "Cayman Islands",
          "Central African Republic",
          "Central Europe and the Baltics",
          "Chad",
          "Channel Islands",
          "Chile",
          "China",
          "Colombia",
          "Comoros",
          "Congo, Dem. Rep.",
          "Congo, Rep.",
          "Costa Rica",
          "Cote d'Ivoire",
          "Croatia",
          "Cuba",
          "Curacao",
          "Cyprus",
          "Czechia",
          "Denmark",
          "Djibouti",
          "Dominica",
          "Dominican Republic",
          "Early-demographic dividend",
          "East Asia & Pacific",
          "East Asia & Pacific (IDA & IBRD countries)",
          "East Asia & Pacific (excluding high income)",
          "Ecuador",
          "Egypt, Arab Rep.",
          "El Salvador",
          "Equatorial Guinea",
          "Eritrea",
          "Estonia",
          "Eswatini",
          "Ethiopia",
          "Euro area",
          "Europe & Central Asia",
          "Europe & Central Asia (IDA & IBRD countries)",
          "Europe & Central Asia (excluding high income)",
          "European Union",
          "Faroe Islands",
          "Fiji",
          "Finland",
          "Fragile and conflict affected situations",
          "France",
          "French Polynesia",
          "Gabon",
          "Gambia, The",
          "Georgia",
          "Germany",
          "Ghana",
          "Gibraltar",
          "Greece",
          "Greenland",
          "Grenada",
          "Guam",
          "Guatemala",
          "Guinea",
          "Guinea-Bissau",
          "Guyana",
          "Haiti",
          "Heavily indebted poor countries (HIPC)",
          "High income",
          "Honduras",
          "Hong Kong SAR, China",
          "Hungary",
          "IBRD only",
          "IDA & IBRD total",
          "IDA blend",
          "IDA only",
          "IDA total",
          "Iceland",
          "India",
          "Indonesia",
          "Iran, Islamic Rep.",
          "Iraq",
          "Ireland",
          "Isle of Man",
          "Israel",
          "Italy",
          "Jamaica",
          "Japan",
          "Jordan",
          "Kazakhstan",
          "Kenya",
          "Kiribati",
          "Korea, Dem. People's Rep.",
          "Korea, Rep.",
          "Kuwait",
          "Kyrgyz Republic",
          "Lao PDR",
          "Late-demographic dividend",
          "Latin America & Caribbean",
          "Latin America & Caribbean (excluding high income)",
          "Latin America & the Caribbean (IDA & IBRD countries)",
          "Latvia",
          "Least developed countries: UN classification",
          "Lebanon",
          "Lesotho",
          "Liberia",
          "Libya",
          "Liechtenstein",
          "Lithuania",
          "Low & middle income",
          "Low income",
          "Lower middle income",
          "Luxembourg",
          "Macao SAR, China",
          "Madagascar",
          "Malawi",
          "Malaysia",
          "Maldives",
          "Mali",
          "Malta",
          "Marshall Islands",
          "Mauritania",
          "Mauritius",
          "Mexico",
          "Micronesia, Fed. Sts.",
          "Middle East & North Africa",
          "Middle East & North Africa (IDA & IBRD countries)",
          "Middle East & North Africa (excluding high income)",
          "Middle income",
          "Moldova",
          "Monaco",
          "Mongolia",
          "Montenegro",
          "Morocco",
          "Mozambique",
          "Myanmar",
          "Namibia",
          "Nauru",
          "Nepal",
          "Netherlands",
          "New Caledonia",
          "New Zealand",
          "Nicaragua",
          "Niger",
          "Nigeria",
          "North America",
          "North Macedonia",
          "Northern Mariana Islands",
          "Norway",
          "OECD members",
          "Oman",
          "Other small states",
          "Pacific island small states",
          "Pakistan",
          "Palau",
          "Panama",
          "Papua New Guinea",
          "Paraguay",
          "Peru",
          "Philippines",
          "Poland",
          "Portugal",
          "Post-demographic dividend",
          "Pre-demographic dividend",
          "Puerto Rico",
          "Qatar",
          "Romania",
          "Russian Federation",
          "Rwanda",
          "San Marino",
          "Sao Tome and Principe",
          "Saudi Arabia",
          "Senegal",
          "Serbia",
          "Seychelles",
          "Sierra Leone",
          "Singapore",
          "Sint Maarten (Dutch part)",
          "Slovak Republic",
          "Slovenia",
          "Small states",
          "Solomon Islands",
          "Somalia",
          "South Asia",
          "South Asia (IDA & IBRD)",
          "South Sudan",
          "Spain",
          "Sri Lanka",
          "St. Kitts and Nevis",
          "St. Lucia",
          "St. Martin (French part)",
          "St. Vincent and the Grenadines",
          "Sub-Saharan Africa",
          "Sub-Saharan Africa (IDA & IBRD countries)",
          "Sub-Saharan Africa (excluding high income)",
          "Sudan",
          "Suriname",
          "Sweden",
          "Switzerland",
          "Syrian Arab Republic",
          "Tajikistan",
          "Tanzania",
          "Thailand",
          "Timor-Leste",
          "Togo",
          "Tonga",
          "Trinidad and Tobago",
          "Tunisia",
          "Turkiye",
          "Turkmenistan",
          "Turks and Caicos Islands",
          "Tuvalu",
          "Uganda",
          "Ukraine",
          "United Arab Emirates",
          "United Kingdom",
          "United States",
          "Upper middle income",
          "Uruguay",
          "Uzbekistan",
          "Venezuela, RB",
          "Viet Nam",
          "Virgin Islands (U.S.)",
          "West Bank and Gaza"
         ],
         "locationmode": "country names",
         "locations": [
          "Afghanistan",
          "Africa Eastern and Southern",
          "Africa Western and Central",
          "Albania",
          "Algeria",
          "American Samoa",
          "Andorra",
          "Angola",
          "Antigua and Barbuda",
          "Arab World",
          "Argentina",
          "Armenia",
          "Aruba",
          "Australia",
          "Austria",
          "Azerbaijan",
          "Bahamas, The",
          "Bahrain",
          "Bangladesh",
          "Barbados",
          "Belarus",
          "Belgium",
          "Belize",
          "Benin",
          "Bermuda",
          "Bhutan",
          "Bolivia",
          "Bosnia and Herzegovina",
          "Botswana",
          "Brazil",
          "British Virgin Islands",
          "Brunei Darussalam",
          "Bulgaria",
          "Burkina Faso",
          "Burundi",
          "Cabo Verde",
          "Cambodia",
          "Cameroon",
          "Canada",
          "Caribbean small states",
          "Cayman Islands",
          "Central African Republic",
          "Central Europe and the Baltics",
          "Chad",
          "Channel Islands",
          "Chile",
          "China",
          "Colombia",
          "Comoros",
          "Congo, Dem. Rep.",
          "Congo, Rep.",
          "Costa Rica",
          "Cote d'Ivoire",
          "Croatia",
          "Cuba",
          "Curacao",
          "Cyprus",
          "Czechia",
          "Denmark",
          "Djibouti",
          "Dominica",
          "Dominican Republic",
          "Early-demographic dividend",
          "East Asia & Pacific",
          "East Asia & Pacific (IDA & IBRD countries)",
          "East Asia & Pacific (excluding high income)",
          "Ecuador",
          "Egypt, Arab Rep.",
          "El Salvador",
          "Equatorial Guinea",
          "Eritrea",
          "Estonia",
          "Eswatini",
          "Ethiopia",
          "Euro area",
          "Europe & Central Asia",
          "Europe & Central Asia (IDA & IBRD countries)",
          "Europe & Central Asia (excluding high income)",
          "European Union",
          "Faroe Islands",
          "Fiji",
          "Finland",
          "Fragile and conflict affected situations",
          "France",
          "French Polynesia",
          "Gabon",
          "Gambia, The",
          "Georgia",
          "Germany",
          "Ghana",
          "Gibraltar",
          "Greece",
          "Greenland",
          "Grenada",
          "Guam",
          "Guatemala",
          "Guinea",
          "Guinea-Bissau",
          "Guyana",
          "Haiti",
          "Heavily indebted poor countries (HIPC)",
          "High income",
          "Honduras",
          "Hong Kong SAR, China",
          "Hungary",
          "IBRD only",
          "IDA & IBRD total",
          "IDA blend",
          "IDA only",
          "IDA total",
          "Iceland",
          "India",
          "Indonesia",
          "Iran, Islamic Rep.",
          "Iraq",
          "Ireland",
          "Isle of Man",
          "Israel",
          "Italy",
          "Jamaica",
          "Japan",
          "Jordan",
          "Kazakhstan",
          "Kenya",
          "Kiribati",
          "Korea, Dem. People's Rep.",
          "Korea, Rep.",
          "Kuwait",
          "Kyrgyz Republic",
          "Lao PDR",
          "Late-demographic dividend",
          "Latin America & Caribbean",
          "Latin America & Caribbean (excluding high income)",
          "Latin America & the Caribbean (IDA & IBRD countries)",
          "Latvia",
          "Least developed countries: UN classification",
          "Lebanon",
          "Lesotho",
          "Liberia",
          "Libya",
          "Liechtenstein",
          "Lithuania",
          "Low & middle income",
          "Low income",
          "Lower middle income",
          "Luxembourg",
          "Macao SAR, China",
          "Madagascar",
          "Malawi",
          "Malaysia",
          "Maldives",
          "Mali",
          "Malta",
          "Marshall Islands",
          "Mauritania",
          "Mauritius",
          "Mexico",
          "Micronesia, Fed. Sts.",
          "Middle East & North Africa",
          "Middle East & North Africa (IDA & IBRD countries)",
          "Middle East & North Africa (excluding high income)",
          "Middle income",
          "Moldova",
          "Monaco",
          "Mongolia",
          "Montenegro",
          "Morocco",
          "Mozambique",
          "Myanmar",
          "Namibia",
          "Nauru",
          "Nepal",
          "Netherlands",
          "New Caledonia",
          "New Zealand",
          "Nicaragua",
          "Niger",
          "Nigeria",
          "North America",
          "North Macedonia",
          "Northern Mariana Islands",
          "Norway",
          "OECD members",
          "Oman",
          "Other small states",
          "Pacific island small states",
          "Pakistan",
          "Palau",
          "Panama",
          "Papua New Guinea",
          "Paraguay",
          "Peru",
          "Philippines",
          "Poland",
          "Portugal",
          "Post-demographic dividend",
          "Pre-demographic dividend",
          "Puerto Rico",
          "Qatar",
          "Romania",
          "Russian Federation",
          "Rwanda",
          "San Marino",
          "Sao Tome and Principe",
          "Saudi Arabia",
          "Senegal",
          "Serbia",
          "Seychelles",
          "Sierra Leone",
          "Singapore",
          "Sint Maarten (Dutch part)",
          "Slovak Republic",
          "Slovenia",
          "Small states",
          "Solomon Islands",
          "Somalia",
          "South Asia",
          "South Asia (IDA & IBRD)",
          "South Sudan",
          "Spain",
          "Sri Lanka",
          "St. Kitts and Nevis",
          "St. Lucia",
          "St. Martin (French part)",
          "St. Vincent and the Grenadines",
          "Sub-Saharan Africa",
          "Sub-Saharan Africa (IDA & IBRD countries)",
          "Sub-Saharan Africa (excluding high income)",
          "Sudan",
          "Suriname",
          "Sweden",
          "Switzerland",
          "Syrian Arab Republic",
          "Tajikistan",
          "Tanzania",
          "Thailand",
          "Timor-Leste",
          "Togo",
          "Tonga",
          "Trinidad and Tobago",
          "Tunisia",
          "Turkiye",
          "Turkmenistan",
          "Turks and Caicos Islands",
          "Tuvalu",
          "Uganda",
          "Ukraine",
          "United Arab Emirates",
          "United Kingdom",
          "United States",
          "Upper middle income",
          "Uruguay",
          "Uzbekistan",
          "Venezuela, RB",
          "Viet Nam",
          "Virgin Islands (U.S.)",
          "West Bank and Gaza"
         ],
         "name": "",
         "type": "choropleth",
         "z": [
          4.643,
          4.354709111627554,
          4.978662470824824,
          1.39,
          2.889,
          null,
          null,
          5.304,
          1.58,
          3.1425652048234243,
          1.885,
          1.575,
          1.18,
          1.7,
          1.48,
          1.52,
          1.389,
          1.811,
          1.981,
          1.633,
          1.483,
          1.6,
          2.01,
          4.973,
          1.3,
          1.413,
          2.618,
          1.35,
          2.791,
          1.641,
          1.005,
          1.778,
          1.58,
          4.772,
          5.078,
          1.896,
          2.344,
          4.463,
          1.43,
          1.6645220374827348,
          null,
          5.978,
          1.5509852652350795,
          6.255,
          1.457,
          1.537,
          1.164,
          1.717,
          3.978,
          6.156,
          4.171,
          1.533,
          4.418,
          1.62,
          1.442,
          1.38390804597701,
          1.321,
          1.83,
          1.72,
          2.804,
          1.595,
          2.273,
          2.351047717190979,
          1.4894321665918722,
          1.5168461661823105,
          1.52044206107285,
          2.026,
          2.917,
          1.803,
          4.266,
          3.867,
          1.61,
          2.839,
          4.159,
          1.50901537235435,
          1.6929062715058718,
          1.834618994564491,
          1.882754393934244,
          1.5202891093558843,
          2.293,
          2.475,
          1.46,
          4.3586985347571,
          1.83,
          1.699,
          3.491,
          4.684,
          2.081,
          1.58,
          3.563,
          1.848,
          1.39,
          1.8,
          2.004,
          2.569,
          2.395,
          4.399,
          4.005,
          2.397,
          2.814,
          4.62029967714928,
          1.5454778748946605,
          2.363,
          0.772,
          1.59,
          1.824392868714361,
          2.3845571017627205,
          4.080936209993707,
          3.84389603505542,
          3.920979359815664,
          1.82,
          2.031,
          2.175,
          1.692,
          3.496,
          1.72,
          1.564,
          3,
          1.25,
          1.352,
          1.3,
          2.83,
          3.32,
          3.335,
          3.304,
          1.809,
          0.808,
          2.11,
          2.89,
          2.496,
          1.396944827198629,
          1.8532845922368848,
          1.8512774750706515,
          1.864022446281596,
          1.57,
          3.98568769667039,
          2.091,
          3.018,
          4.089,
          2.462,
          1.53,
          1.34,
          2.3931398419100764,
          4.624590777855968,
          2.6322706388107058,
          1.38,
          1.088,
          3.851,
          3.917,
          1.803,
          1.692,
          5.956,
          1.14,
          2.729,
          4.398,
          1.41,
          1.822,
          2.711,
          2.629069637629476,
          2.660823236873308,
          2.6705369583929435,
          2.1487133600566466,
          1.806,
          null,
          2.837,
          1.75,
          2.328,
          4.644,
          2.151,
          3.303,
          3.519,
          2.029,
          1.62,
          2.02,
          1.64,
          2.321,
          6.82,
          5.237,
          1.640038399621491,
          1.6,
          null,
          1.55,
          1.5892184240504792,
          2.623,
          2.859601735606021,
          3.2410131145701366,
          3.47,
          null,
          2.325,
          3.215,
          2.469,
          2.192,
          2.748,
          1.33,
          1.38,
          1.488544165367481,
          4.844171261097582,
          0.907,
          1.801,
          1.8,
          1.493,
          3.821,
          null,
          3.823,
          2.427,
          4.387,
          1.48,
          2.46,
          3.978,
          1.12,
          1.581,
          1.64,
          1.64,
          2.65589310681651,
          3.983,
          6.312,
          2.240930024619776,
          2.240930024619776,
          4.469,
          1.19,
          1.99,
          1.531,
          1.399,
          2.415,
          1.797,
          4.601288282785259,
          4.60128828278526,
          4.601462591866566,
          4.457,
          2.348,
          1.67,
          1.52,
          2.747,
          3.186,
          4.726,
          1.331,
          3.149,
          4.257,
          3.237,
          1.626,
          2.086,
          1.889,
          2.667,
          1.669,
          3.163,
          4.585,
          1.16,
          1.46,
          1.56,
          1.664,
          1.5676413556164006,
          1.493,
          3.173,
          2.211,
          1.944,
          2.01,
          3.504
         ]
        }
       ],
       "layout": {
        "coloraxis": {
         "colorbar": {
          "title": {
           "text": "Fertility rate, total (births per woman)"
          }
         },
         "colorscale": [
          [
           0,
           "#440154"
          ],
          [
           0.1111111111111111,
           "#482878"
          ],
          [
           0.2222222222222222,
           "#3e4989"
          ],
          [
           0.3333333333333333,
           "#31688e"
          ],
          [
           0.4444444444444444,
           "#26828e"
          ],
          [
           0.5555555555555556,
           "#1f9e89"
          ],
          [
           0.6666666666666666,
           "#35b779"
          ],
          [
           0.7777777777777778,
           "#6ece58"
          ],
          [
           0.8888888888888888,
           "#b5de2b"
          ],
          [
           1,
           "#fde725"
          ]
         ]
        },
        "geo": {
         "center": {},
         "domain": {
          "x": [
           0,
           1
          ],
          "y": [
           0,
           1
          ]
         }
        },
        "legend": {
         "tracegroupgap": 0
        },
        "template": {
         "data": {
          "bar": [
           {
            "error_x": {
             "color": "#2a3f5f"
            },
            "error_y": {
             "color": "#2a3f5f"
            },
            "marker": {
             "line": {
              "color": "#E5ECF6",
              "width": 0.5
             },
             "pattern": {
              "fillmode": "overlay",
              "size": 10,
              "solidity": 0.2
             }
            },
            "type": "bar"
           }
          ],
          "barpolar": [
           {
            "marker": {
             "line": {
              "color": "#E5ECF6",
              "width": 0.5
             },
             "pattern": {
              "fillmode": "overlay",
              "size": 10,
              "solidity": 0.2
             }
            },
            "type": "barpolar"
           }
          ],
          "carpet": [
           {
            "aaxis": {
             "endlinecolor": "#2a3f5f",
             "gridcolor": "white",
             "linecolor": "white",
             "minorgridcolor": "white",
             "startlinecolor": "#2a3f5f"
            },
            "baxis": {
             "endlinecolor": "#2a3f5f",
             "gridcolor": "white",
             "linecolor": "white",
             "minorgridcolor": "white",
             "startlinecolor": "#2a3f5f"
            },
            "type": "carpet"
           }
          ],
          "choropleth": [
           {
            "colorbar": {
             "outlinewidth": 0,
             "ticks": ""
            },
            "type": "choropleth"
           }
          ],
          "contour": [
           {
            "colorbar": {
             "outlinewidth": 0,
             "ticks": ""
            },
            "colorscale": [
             [
              0,
              "#0d0887"
             ],
             [
              0.1111111111111111,
              "#46039f"
             ],
             [
              0.2222222222222222,
              "#7201a8"
             ],
             [
              0.3333333333333333,
              "#9c179e"
             ],
             [
              0.4444444444444444,
              "#bd3786"
             ],
             [
              0.5555555555555556,
              "#d8576b"
             ],
             [
              0.6666666666666666,
              "#ed7953"
             ],
             [
              0.7777777777777778,
              "#fb9f3a"
             ],
             [
              0.8888888888888888,
              "#fdca26"
             ],
             [
              1,
              "#f0f921"
             ]
            ],
            "type": "contour"
           }
          ],
          "contourcarpet": [
           {
            "colorbar": {
             "outlinewidth": 0,
             "ticks": ""
            },
            "type": "contourcarpet"
           }
          ],
          "heatmap": [
           {
            "colorbar": {
             "outlinewidth": 0,
             "ticks": ""
            },
            "colorscale": [
             [
              0,
              "#0d0887"
             ],
             [
              0.1111111111111111,
              "#46039f"
             ],
             [
              0.2222222222222222,
              "#7201a8"
             ],
             [
              0.3333333333333333,
              "#9c179e"
             ],
             [
              0.4444444444444444,
              "#bd3786"
             ],
             [
              0.5555555555555556,
              "#d8576b"
             ],
             [
              0.6666666666666666,
              "#ed7953"
             ],
             [
              0.7777777777777778,
              "#fb9f3a"
             ],
             [
              0.8888888888888888,
              "#fdca26"
             ],
             [
              1,
              "#f0f921"
             ]
            ],
            "type": "heatmap"
           }
          ],
          "heatmapgl": [
           {
            "colorbar": {
             "outlinewidth": 0,
             "ticks": ""
            },
            "colorscale": [
             [
              0,
              "#0d0887"
             ],
             [
              0.1111111111111111,
              "#46039f"
             ],
             [
              0.2222222222222222,
              "#7201a8"
             ],
             [
              0.3333333333333333,
              "#9c179e"
             ],
             [
              0.4444444444444444,
              "#bd3786"
             ],
             [
              0.5555555555555556,
              "#d8576b"
             ],
             [
              0.6666666666666666,
              "#ed7953"
             ],
             [
              0.7777777777777778,
              "#fb9f3a"
             ],
             [
              0.8888888888888888,
              "#fdca26"
             ],
             [
              1,
              "#f0f921"
             ]
            ],
            "type": "heatmapgl"
           }
          ],
          "histogram": [
           {
            "marker": {
             "pattern": {
              "fillmode": "overlay",
              "size": 10,
              "solidity": 0.2
             }
            },
            "type": "histogram"
           }
          ],
          "histogram2d": [
           {
            "colorbar": {
             "outlinewidth": 0,
             "ticks": ""
            },
            "colorscale": [
             [
              0,
              "#0d0887"
             ],
             [
              0.1111111111111111,
              "#46039f"
             ],
             [
              0.2222222222222222,
              "#7201a8"
             ],
             [
              0.3333333333333333,
              "#9c179e"
             ],
             [
              0.4444444444444444,
              "#bd3786"
             ],
             [
              0.5555555555555556,
              "#d8576b"
             ],
             [
              0.6666666666666666,
              "#ed7953"
             ],
             [
              0.7777777777777778,
              "#fb9f3a"
             ],
             [
              0.8888888888888888,
              "#fdca26"
             ],
             [
              1,
              "#f0f921"
             ]
            ],
            "type": "histogram2d"
           }
          ],
          "histogram2dcontour": [
           {
            "colorbar": {
             "outlinewidth": 0,
             "ticks": ""
            },
            "colorscale": [
             [
              0,
              "#0d0887"
             ],
             [
              0.1111111111111111,
              "#46039f"
             ],
             [
              0.2222222222222222,
              "#7201a8"
             ],
             [
              0.3333333333333333,
              "#9c179e"
             ],
             [
              0.4444444444444444,
              "#bd3786"
             ],
             [
              0.5555555555555556,
              "#d8576b"
             ],
             [
              0.6666666666666666,
              "#ed7953"
             ],
             [
              0.7777777777777778,
              "#fb9f3a"
             ],
             [
              0.8888888888888888,
              "#fdca26"
             ],
             [
              1,
              "#f0f921"
             ]
            ],
            "type": "histogram2dcontour"
           }
          ],
          "mesh3d": [
           {
            "colorbar": {
             "outlinewidth": 0,
             "ticks": ""
            },
            "type": "mesh3d"
           }
          ],
          "parcoords": [
           {
            "line": {
             "colorbar": {
              "outlinewidth": 0,
              "ticks": ""
             }
            },
            "type": "parcoords"
           }
          ],
          "pie": [
           {
            "automargin": true,
            "type": "pie"
           }
          ],
          "scatter": [
           {
            "fillpattern": {
             "fillmode": "overlay",
             "size": 10,
             "solidity": 0.2
            },
            "type": "scatter"
           }
          ],
          "scatter3d": [
           {
            "line": {
             "colorbar": {
              "outlinewidth": 0,
              "ticks": ""
             }
            },
            "marker": {
             "colorbar": {
              "outlinewidth": 0,
              "ticks": ""
             }
            },
            "type": "scatter3d"
           }
          ],
          "scattercarpet": [
           {
            "marker": {
             "colorbar": {
              "outlinewidth": 0,
              "ticks": ""
             }
            },
            "type": "scattercarpet"
           }
          ],
          "scattergeo": [
           {
            "marker": {
             "colorbar": {
              "outlinewidth": 0,
              "ticks": ""
             }
            },
            "type": "scattergeo"
           }
          ],
          "scattergl": [
           {
            "marker": {
             "colorbar": {
              "outlinewidth": 0,
              "ticks": ""
             }
            },
            "type": "scattergl"
           }
          ],
          "scattermapbox": [
           {
            "marker": {
             "colorbar": {
              "outlinewidth": 0,
              "ticks": ""
             }
            },
            "type": "scattermapbox"
           }
          ],
          "scatterpolar": [
           {
            "marker": {
             "colorbar": {
              "outlinewidth": 0,
              "ticks": ""
             }
            },
            "type": "scatterpolar"
           }
          ],
          "scatterpolargl": [
           {
            "marker": {
             "colorbar": {
              "outlinewidth": 0,
              "ticks": ""
             }
            },
            "type": "scatterpolargl"
           }
          ],
          "scatterternary": [
           {
            "marker": {
             "colorbar": {
              "outlinewidth": 0,
              "ticks": ""
             }
            },
            "type": "scatterternary"
           }
          ],
          "surface": [
           {
            "colorbar": {
             "outlinewidth": 0,
             "ticks": ""
            },
            "colorscale": [
             [
              0,
              "#0d0887"
             ],
             [
              0.1111111111111111,
              "#46039f"
             ],
             [
              0.2222222222222222,
              "#7201a8"
             ],
             [
              0.3333333333333333,
              "#9c179e"
             ],
             [
              0.4444444444444444,
              "#bd3786"
             ],
             [
              0.5555555555555556,
              "#d8576b"
             ],
             [
              0.6666666666666666,
              "#ed7953"
             ],
             [
              0.7777777777777778,
              "#fb9f3a"
             ],
             [
              0.8888888888888888,
              "#fdca26"
             ],
             [
              1,
              "#f0f921"
             ]
            ],
            "type": "surface"
           }
          ],
          "table": [
           {
            "cells": {
             "fill": {
              "color": "#EBF0F8"
             },
             "line": {
              "color": "white"
             }
            },
            "header": {
             "fill": {
              "color": "#C8D4E3"
             },
             "line": {
              "color": "white"
             }
            },
            "type": "table"
           }
          ]
         },
         "layout": {
          "annotationdefaults": {
           "arrowcolor": "#2a3f5f",
           "arrowhead": 0,
           "arrowwidth": 1
          },
          "autotypenumbers": "strict",
          "coloraxis": {
           "colorbar": {
            "outlinewidth": 0,
            "ticks": ""
           }
          },
          "colorscale": {
           "diverging": [
            [
             0,
             "#8e0152"
            ],
            [
             0.1,
             "#c51b7d"
            ],
            [
             0.2,
             "#de77ae"
            ],
            [
             0.3,
             "#f1b6da"
            ],
            [
             0.4,
             "#fde0ef"
            ],
            [
             0.5,
             "#f7f7f7"
            ],
            [
             0.6,
             "#e6f5d0"
            ],
            [
             0.7,
             "#b8e186"
            ],
            [
             0.8,
             "#7fbc41"
            ],
            [
             0.9,
             "#4d9221"
            ],
            [
             1,
             "#276419"
            ]
           ],
           "sequential": [
            [
             0,
             "#0d0887"
            ],
            [
             0.1111111111111111,
             "#46039f"
            ],
            [
             0.2222222222222222,
             "#7201a8"
            ],
            [
             0.3333333333333333,
             "#9c179e"
            ],
            [
             0.4444444444444444,
             "#bd3786"
            ],
            [
             0.5555555555555556,
             "#d8576b"
            ],
            [
             0.6666666666666666,
             "#ed7953"
            ],
            [
             0.7777777777777778,
             "#fb9f3a"
            ],
            [
             0.8888888888888888,
             "#fdca26"
            ],
            [
             1,
             "#f0f921"
            ]
           ],
           "sequentialminus": [
            [
             0,
             "#0d0887"
            ],
            [
             0.1111111111111111,
             "#46039f"
            ],
            [
             0.2222222222222222,
             "#7201a8"
            ],
            [
             0.3333333333333333,
             "#9c179e"
            ],
            [
             0.4444444444444444,
             "#bd3786"
            ],
            [
             0.5555555555555556,
             "#d8576b"
            ],
            [
             0.6666666666666666,
             "#ed7953"
            ],
            [
             0.7777777777777778,
             "#fb9f3a"
            ],
            [
             0.8888888888888888,
             "#fdca26"
            ],
            [
             1,
             "#f0f921"
            ]
           ]
          },
          "colorway": [
           "#636efa",
           "#EF553B",
           "#00cc96",
           "#ab63fa",
           "#FFA15A",
           "#19d3f3",
           "#FF6692",
           "#B6E880",
           "#FF97FF",
           "#FECB52"
          ],
          "font": {
           "color": "#2a3f5f"
          },
          "geo": {
           "bgcolor": "white",
           "lakecolor": "white",
           "landcolor": "#E5ECF6",
           "showlakes": true,
           "showland": true,
           "subunitcolor": "white"
          },
          "hoverlabel": {
           "align": "left"
          },
          "hovermode": "closest",
          "mapbox": {
           "style": "light"
          },
          "paper_bgcolor": "white",
          "plot_bgcolor": "#E5ECF6",
          "polar": {
           "angularaxis": {
            "gridcolor": "white",
            "linecolor": "white",
            "ticks": ""
           },
           "bgcolor": "#E5ECF6",
           "radialaxis": {
            "gridcolor": "white",
            "linecolor": "white",
            "ticks": ""
           }
          },
          "scene": {
           "xaxis": {
            "backgroundcolor": "#E5ECF6",
            "gridcolor": "white",
            "gridwidth": 2,
            "linecolor": "white",
            "showbackground": true,
            "ticks": "",
            "zerolinecolor": "white"
           },
           "yaxis": {
            "backgroundcolor": "#E5ECF6",
            "gridcolor": "white",
            "gridwidth": 2,
            "linecolor": "white",
            "showbackground": true,
            "ticks": "",
            "zerolinecolor": "white"
           },
           "zaxis": {
            "backgroundcolor": "#E5ECF6",
            "gridcolor": "white",
            "gridwidth": 2,
            "linecolor": "white",
            "showbackground": true,
            "ticks": "",
            "zerolinecolor": "white"
           }
          },
          "shapedefaults": {
           "line": {
            "color": "#2a3f5f"
           }
          },
          "ternary": {
           "aaxis": {
            "gridcolor": "white",
            "linecolor": "white",
            "ticks": ""
           },
           "baxis": {
            "gridcolor": "white",
            "linecolor": "white",
            "ticks": ""
           },
           "bgcolor": "#E5ECF6",
           "caxis": {
            "gridcolor": "white",
            "linecolor": "white",
            "ticks": ""
           }
          },
          "title": {
           "x": 0.05
          },
          "xaxis": {
           "automargin": true,
           "gridcolor": "white",
           "linecolor": "white",
           "ticks": "",
           "title": {
            "standoff": 15
           },
           "zerolinecolor": "white",
           "zerolinewidth": 2
          },
          "yaxis": {
           "automargin": true,
           "gridcolor": "white",
           "linecolor": "white",
           "ticks": "",
           "title": {
            "standoff": 15
           },
           "zerolinecolor": "white",
           "zerolinewidth": 2
          }
         }
        },
        "title": {
         "text": "Fertility Rate by Country in 2021"
        }
       }
      }
     },
     "metadata": {},
     "output_type": "display_data"
    }
   ],
   "source": [
    "import plotly.express as px\n",
    "import pandas as pd\n",
    "\n",
    "# Load the dataset\n",
    "df = pd.read_csv(r'../data/processed/pivot_table.csv')\n",
    "\n",
    "# Create the choropleth map\n",
    "fig = px.choropleth(\n",
    "    df,\n",
    "    locations='Country Name',  # Column containing country names\n",
    "    locationmode='country names',  # Use country names to match locations\n",
    "    color='Fertility rate, total (births per woman)',  # Column to represent color scale\n",
    "    hover_name='Country Name',  # Column to show when hovering over a country\n",
    "    color_continuous_scale='Viridis',  # Color scale\n",
    "    title='Fertility Rate by Country in 2021'  # Title of the map\n",
    ")\n",
    "\n",
    "# Show the plot\n",
    "fig.show()"
   ]
  },
  {
   "attachments": {
    "image.png": {
     "image/png": "[encoded data removed]"
    }
   },
   "cell_type": "markdown",
   "metadata": {},
   "source": [
    "![image.png](attachment:image.png)"
   ]
  },
  {
   "cell_type": "code",
   "execution_count": 26,
   "metadata": {},
   "outputs": [
    {
     "data": {
      "application/vnd.plotly.v1+json": {
       "config": {
        "plotlyServerURL": "https://plot.ly"
       },
       "data": [
        {
         "coloraxis": "coloraxis",
         "geo": "geo",
         "hovertemplate": "<b>%{hovertext}</b><br><br>Country Name=%{location}<br>Population growth (annual %)=%{z}<extra></extra>",
         "hovertext": [
          "Afghanistan",
          "Africa Eastern and Southern",
          "Africa Western and Central",
          "Albania",
          "Algeria",
          "American Samoa",
          "Andorra",
          "Angola",
          "Antigua and Barbuda",
          "Arab World",
          "Argentina",
          "Armenia",
          "Aruba",
          "Australia",
          "Austria",
          "Azerbaijan",
          "Bahamas, The",
          "Bahrain",
          "Bangladesh",
          "Barbados",
          "Belarus",
          "Belgium",
          "Belize",
          "Benin",
          "Bermuda",
          "Bhutan",
          "Bolivia",
          "Bosnia and Herzegovina",
          "Botswana",
          "Brazil",
          "British Virgin Islands",
          "Brunei Darussalam",
          "Bulgaria",
          "Burkina Faso",
          "Burundi",
          "Cabo Verde",
          "Cambodia",
          "Cameroon",
          "Canada",
          "Caribbean small states",
          "Cayman Islands",
          "Central African Republic",
          "Central Europe and the Baltics",
          "Chad",
          "Channel Islands",
          "Chile",
          "China",
          "Colombia",
          "Comoros",
          "Congo, Dem. Rep.",
          "Congo, Rep.",
          "Costa Rica",
          "Cote d'Ivoire",
          "Croatia",
          "Cuba",
          "Curacao",
          "Cyprus",
          "Czechia",
          "Denmark",
          "Djibouti",
          "Dominica",
          "Dominican Republic",
          "Early-demographic dividend",
          "East Asia & Pacific",
          "East Asia & Pacific (IDA & IBRD countries)",
          "East Asia & Pacific (excluding high income)",
          "Ecuador",
          "Egypt, Arab Rep.",
          "El Salvador",
          "Equatorial Guinea",
          "Eritrea",
          "Estonia",
          "Eswatini",
          "Ethiopia",
          "Euro area",
          "Europe & Central Asia",
          "Europe & Central Asia (IDA & IBRD countries)",
          "Europe & Central Asia (excluding high income)",
          "European Union",
          "Faroe Islands",
          "Fiji",
          "Finland",
          "Fragile and conflict affected situations",
          "France",
          "French Polynesia",
          "Gabon",
          "Gambia, The",
          "Georgia",
          "Germany",
          "Ghana",
          "Gibraltar",
          "Greece",
          "Greenland",
          "Grenada",
          "Guam",
          "Guatemala",
          "Guinea",
          "Guinea-Bissau",
          "Guyana",
          "Haiti",
          "Heavily indebted poor countries (HIPC)",
          "High income",
          "Honduras",
          "Hong Kong SAR, China",
          "Hungary",
          "IBRD only",
          "IDA & IBRD total",
          "IDA blend",
          "IDA only",
          "IDA total",
          "Iceland",
          "India",
          "Indonesia",
          "Iran, Islamic Rep.",
          "Iraq",
          "Ireland",
          "Isle of Man",
          "Israel",
          "Italy",
          "Jamaica",
          "Japan",
          "Jordan",
          "Kazakhstan",
          "Kenya",
          "Kiribati",
          "Korea, Dem. People's Rep.",
          "Korea, Rep.",
          "Kuwait",
          "Kyrgyz Republic",
          "Lao PDR",
          "Late-demographic dividend",
          "Latin America & Caribbean",
          "Latin America & Caribbean (excluding high income)",
          "Latin America & the Caribbean (IDA & IBRD countries)",
          "Latvia",
          "Least developed countries: UN classification",
          "Lebanon",
          "Lesotho",
          "Liberia",
          "Libya",
          "Liechtenstein",
          "Lithuania",
          "Low & middle income",
          "Low income",
          "Lower middle income",
          "Luxembourg",
          "Macao SAR, China",
          "Madagascar",
          "Malawi",
          "Malaysia",
          "Maldives",
          "Mali",
          "Malta",
          "Marshall Islands",
          "Mauritania",
          "Mauritius",
          "Mexico",
          "Micronesia, Fed. Sts.",
          "Middle East & North Africa",
          "Middle East & North Africa (IDA & IBRD countries)",
          "Middle East & North Africa (excluding high income)",
          "Middle income",
          "Moldova",
          "Monaco",
          "Mongolia",
          "Montenegro",
          "Morocco",
          "Mozambique",
          "Myanmar",
          "Namibia",
          "Nauru",
          "Nepal",
          "Netherlands",
          "New Caledonia",
          "New Zealand",
          "Nicaragua",
          "Niger",
          "Nigeria",
          "North America",
          "North Macedonia",
          "Northern Mariana Islands",
          "Norway",
          "OECD members",
          "Oman",
          "Other small states",
          "Pacific island small states",
          "Pakistan",
          "Palau",
          "Panama",
          "Papua New Guinea",
          "Paraguay",
          "Peru",
          "Philippines",
          "Poland",
          "Portugal",
          "Post-demographic dividend",
          "Pre-demographic dividend",
          "Puerto Rico",
          "Qatar",
          "Romania",
          "Russian Federation",
          "Rwanda",
          "San Marino",
          "Sao Tome and Principe",
          "Saudi Arabia",
          "Senegal",
          "Serbia",
          "Seychelles",
          "Sierra Leone",
          "Singapore",
          "Sint Maarten (Dutch part)",
          "Slovak Republic",
          "Slovenia",
          "Small states",
          "Solomon Islands",
          "Somalia",
          "South Asia",
          "South Asia (IDA & IBRD)",
          "South Sudan",
          "Spain",
          "Sri Lanka",
          "St. Kitts and Nevis",
          "St. Lucia",
          "St. Martin (French part)",
          "St. Vincent and the Grenadines",
          "Sub-Saharan Africa",
          "Sub-Saharan Africa (IDA & IBRD countries)",
          "Sub-Saharan Africa (excluding high income)",
          "Sudan",
          "Suriname",
          "Sweden",
          "Switzerland",
          "Syrian Arab Republic",
          "Tajikistan",
          "Tanzania",
          "Thailand",
          "Timor-Leste",
          "Togo",
          "Tonga",
          "Trinidad and Tobago",
          "Tunisia",
          "Turkiye",
          "Turkmenistan",
          "Turks and Caicos Islands",
          "Tuvalu",
          "Uganda",
          "Ukraine",
          "United Arab Emirates",
          "United Kingdom",
          "United States",
          "Upper middle income",
          "Uruguay",
          "Uzbekistan",
          "Venezuela, RB",
          "Viet Nam",
          "Virgin Islands (U.S.)",
          "West Bank and Gaza"
         ],
         "locationmode": "country names",
         "locations": [
          "Afghanistan",
          "Africa Eastern and Southern",
          "Africa Western and Central",
          "Albania",
          "Algeria",
          "American Samoa",
          "Andorra",
          "Angola",
          "Antigua and Barbuda",
          "Arab World",
          "Argentina",
          "Armenia",
          "Aruba",
          "Australia",
          "Austria",
          "Azerbaijan",
          "Bahamas, The",
          "Bahrain",
          "Bangladesh",
          "Barbados",
          "Belarus",
          "Belgium",
          "Belize",
          "Benin",
          "Bermuda",
          "Bhutan",
          "Bolivia",
          "Bosnia and Herzegovina",
          "Botswana",
          "Brazil",
          "British Virgin Islands",
          "Brunei Darussalam",
          "Bulgaria",
          "Burkina Faso",
          "Burundi",
          "Cabo Verde",
          "Cambodia",
          "Cameroon",
          "Canada",
          "Caribbean small states",
          "Cayman Islands",
          "Central African Republic",
          "Central Europe and the Baltics",
          "Chad",
          "Channel Islands",
          "Chile",
          "China",
          "Colombia",
          "Comoros",
          "Congo, Dem. Rep.",
          "Congo, Rep.",
          "Costa Rica",
          "Cote d'Ivoire",
          "Croatia",
          "Cuba",
          "Curacao",
          "Cyprus",
          "Czechia",
          "Denmark",
          "Djibouti",
          "Dominica",
          "Dominican Republic",
          "Early-demographic dividend",
          "East Asia & Pacific",
          "East Asia & Pacific (IDA & IBRD countries)",
          "East Asia & Pacific (excluding high income)",
          "Ecuador",
          "Egypt, Arab Rep.",
          "El Salvador",
          "Equatorial Guinea",
          "Eritrea",
          "Estonia",
          "Eswatini",
          "Ethiopia",
          "Euro area",
          "Europe & Central Asia",
          "Europe & Central Asia (IDA & IBRD countries)",
          "Europe & Central Asia (excluding high income)",
          "European Union",
          "Faroe Islands",
          "Fiji",
          "Finland",
          "Fragile and conflict affected situations",
          "France",
          "French Polynesia",
          "Gabon",
          "Gambia, The",
          "Georgia",
          "Germany",
          "Ghana",
          "Gibraltar",
          "Greece",
          "Greenland",
          "Grenada",
          "Guam",
          "Guatemala",
          "Guinea",
          "Guinea-Bissau",
          "Guyana",
          "Haiti",
          "Heavily indebted poor countries (HIPC)",
          "High income",
          "Honduras",
          "Hong Kong SAR, China",
          "Hungary",
          "IBRD only",
          "IDA & IBRD total",
          "IDA blend",
          "IDA only",
          "IDA total",
          "Iceland",
          "India",
          "Indonesia",
          "Iran, Islamic Rep.",
          "Iraq",
          "Ireland",
          "Isle of Man",
          "Israel",
          "Italy",
          "Jamaica",
          "Japan",
          "Jordan",
          "Kazakhstan",
          "Kenya",
          "Kiribati",
          "Korea, Dem. People's Rep.",
          "Korea, Rep.",
          "Kuwait",
          "Kyrgyz Republic",
          "Lao PDR",
          "Late-demographic dividend",
          "Latin America & Caribbean",
          "Latin America & Caribbean (excluding high income)",
          "Latin America & the Caribbean (IDA & IBRD countries)",
          "Latvia",
          "Least developed countries: UN classification",
          "Lebanon",
          "Lesotho",
          "Liberia",
          "Libya",
          "Liechtenstein",
          "Lithuania",
          "Low & middle income",
          "Low income",
          "Lower middle income",
          "Luxembourg",
          "Macao SAR, China",
          "Madagascar",
          "Malawi",
          "Malaysia",
          "Maldives",
          "Mali",
          "Malta",
          "Marshall Islands",
          "Mauritania",
          "Mauritius",
          "Mexico",
          "Micronesia, Fed. Sts.",
          "Middle East & North Africa",
          "Middle East & North Africa (IDA & IBRD countries)",
          "Middle East & North Africa (excluding high income)",
          "Middle income",
          "Moldova",
          "Monaco",
          "Mongolia",
          "Montenegro",
          "Morocco",
          "Mozambique",
          "Myanmar",
          "Namibia",
          "Nauru",
          "Nepal",
          "Netherlands",
          "New Caledonia",
          "New Zealand",
          "Nicaragua",
          "Niger",
          "Nigeria",
          "North America",
          "North Macedonia",
          "Northern Mariana Islands",
          "Norway",
          "OECD members",
          "Oman",
          "Other small states",
          "Pacific island small states",
          "Pakistan",
          "Palau",
          "Panama",
          "Papua New Guinea",
          "Paraguay",
          "Peru",
          "Philippines",
          "Poland",
          "Portugal",
          "Post-demographic dividend",
          "Pre-demographic dividend",
          "Puerto Rico",
          "Qatar",
          "Romania",
          "Russian Federation",
          "Rwanda",
          "San Marino",
          "Sao Tome and Principe",
          "Saudi Arabia",
          "Senegal",
          "Serbia",
          "Seychelles",
          "Sierra Leone",
          "Singapore",
          "Sint Maarten (Dutch part)",
          "Slovak Republic",
          "Slovenia",
          "Small states",
          "Solomon Islands",
          "Somalia",
          "South Asia",
          "South Asia (IDA & IBRD)",
          "South Sudan",
          "Spain",
          "Sri Lanka",
          "St. Kitts and Nevis",
          "St. Lucia",
          "St. Martin (French part)",
          "St. Vincent and the Grenadines",
          "Sub-Saharan Africa",
          "Sub-Saharan Africa (IDA & IBRD countries)",
          "Sub-Saharan Africa (excluding high income)",
          "Sudan",
          "Suriname",
          "Sweden",
          "Switzerland",
          "Syrian Arab Republic",
          "Tajikistan",
          "Tanzania",
          "Thailand",
          "Timor-Leste",
          "Togo",
          "Tonga",
          "Trinidad and Tobago",
          "Tunisia",
          "Turkiye",
          "Turkmenistan",
          "Turks and Caicos Islands",
          "Tuvalu",
          "Uganda",
          "Ukraine",
          "United Arab Emirates",
          "United Kingdom",
          "United States",
          "Upper middle income",
          "Uruguay",
          "Uzbekistan",
          "Venezuela, RB",
          "Viet Nam",
          "Virgin Islands (U.S.)",
          "West Bank and Gaza"
         ],
         "name": "",
         "type": "choropleth",
         "z": [
          2.85135765449931,
          2.60747169409558,
          2.5733774016879494,
          -0.926918061639398,
          1.65770320084269,
          -2.53017092647207,
          1.70228822534561,
          3.16602986153025,
          0.597151594527623,
          1.6233351872385242,
          0.947490959333989,
          -0.522963242641951,
          -0.0450446230906329,
          0.14089508329287,
          0.435671684056384,
          0.441197735816311,
          0.352416997336031,
          -0.966024840061971,
          1.14931847631384,
          0.180461453548187,
          -0.82823272086807,
          0.411601996532257,
          1.28562992065572,
          2.75970517933377,
          -0.202104144558527,
          0.642586172837449,
          1.19348671867883,
          -1.44065259604193,
          1.6367427551677,
          0.528590452919416,
          0.683520845329328,
          0.822461681539278,
          -0.814846471528947,
          2.65037591522147,
          2.67247846179476,
          0.90298888332359,
          1.16513584860257,
          2.63581940586039,
          0.575421916470359,
          0.4984574401781145,
          1.21820372930296,
          2.11363722558977,
          -0.7505843308626226,
          3.16388750517031,
          0.913338674061597,
          0.994344898418259,
          0.0892522000412526,
          1.14382091580962,
          1.89944099480128,
          3.22252815991252,
          2.31648825280279,
          0.600406861056438,
          2.455303010444,
          -4.25664890192098,
          -0.393012541562472,
          -1.6777912474095,
          0.535999429698235,
          -1.81187141002542,
          0.433414489409722,
          1.40284750995694,
          0.577535935346367,
          1.06892666709415,
          1.093083957230604,
          0.2646226635836939,
          0.3418037577845183,
          0.3425537237041709,
          1.18206337539033,
          1.65838367949689,
          0.340068122361035,
          2.37849451867221,
          1.7961013366299,
          0.105996956310127,
          0.9790522575795,
          2.60431928274974,
          -0.005230557139626,
          0.131257937135615,
          0.2510476317189756,
          0.405396153776266,
          -0.1148563383313785,
          0.900256782879419,
          0.45397664568484,
          0.207288594407348,
          2.2536913293528897,
          0.285508618638434,
          0.697087740409896,
          2.09798810279019,
          2.52879318000917,
          -0.379636607027231,
          0.0423270572552137,
          2.00774487031161,
          -0.122365336936279,
          -1.21680248998544,
          0.506106194434674,
          0.762873605069601,
          0.767004481277612,
          1.4803168061015,
          2.44431721949133,
          2.20258924567144,
          0.919614738982755,
          1.23729899666313,
          2.7551621341811057,
          -0.0362679507636301,
          1.5351396675707,
          -0.91177674914823,
          -0.413751024472153,
          0.5810676434653033,
          1.0286262278861074,
          2.1246335714544955,
          2.336157562248303,
          2.2661428347073382,
          1.6393166402584,
          0.797216093898126,
          0.694717688319757,
          0.722822505475776,
          2.26888921028968,
          0.953878183519474,
          0.257859199732084,
          1.68190551747412,
          -0.515599998844444,
          0.257040921915097,
          -0.459952415807642,
          1.98907685592122,
          1.29950843805955,
          1.94276128252757,
          1.88854075847608,
          0.402945210274924,
          -0.176408650734229,
          -2.5628080932518,
          2.89836288600667,
          1.43321406495938,
          0.2299652016566398,
          0.6833827689015379,
          0.763974592333355,
          0.7103276084387034,
          -0.843294678005026,
          2.406415210438368,
          -1.24903516691702,
          1.2062178802275,
          2.05886078022756,
          1.21494764533037,
          0.727556393997221,
          0.212805429536827,
          1.0510085252261092,
          2.727872106602746,
          1.2907830287353477,
          1.51834936706612,
          1.51504486448614,
          2.41686937370051,
          2.61141776637435,
          1.11985399101,
          1.35517739152214,
          3.15796436945004,
          0.619810315667809,
          -3.18995490050083,
          2.55391077109444,
          0.0252729878913446,
          0.559420832085433,
          0.910158700223977,
          1.2934469536444908,
          1.5030697701639468,
          1.5145516432228303,
          0.8608727231770956,
          -1.50342952349937,
          -0.641236845621864,
          1.60937103615911,
          -0.337762721786185,
          1.05148431222073,
          2.84211234895462,
          0.699278204168444,
          1.63585889002733,
          1.57902257627617,
          2.31172371212952,
          0.523490508168757,
          -0.254861903148414,
          0.415621677337565,
          1.39120241997296,
          3.70742378461307,
          2.40636338101405,
          0.2000216076206697,
          -0.359578821721077,
          -0.213994509732827,
          0.534772281874925,
          0.1790324206438498,
          -0.5059218392323,
          1.0092594948764455,
          1.3773468250001315,
          1.83406208240793,
          0.288921192202971,
          1.3156150150044,
          2.02856054038959,
          1.27761600231743,
          1.22566025209601,
          1.49455716704944,
          -0.401728616642455,
          0.626850165433157,
          -0.0759053411836987,
          2.726008807044962,
          -0.576507689869367,
          -2.64853183197257,
          -0.746036478523061,
          0.0397933936830454,
          2.3717515483557,
          -0.773412758286969,
          2.02203616729568,
          -0.129847471045763,
          2.64538054494311,
          -0.943688169512831,
          0.805183391179401,
          2.24176737112654,
          -4.17033630017526,
          0.842576003126024,
          -0.212358807611049,
          0.268851969969908,
          0.9418430393226488,
          2.3817422996453,
          3.14623658777376,
          1.029463930066683,
          1.029463930066683,
          1.33037160015506,
          0.105799194264084,
          1.07544995696428,
          -0.0755921420171568,
          0.230712748065059,
          -1.87599492510377,
          -0.287130994918257,
          2.593666118805544,
          2.593666118805544,
          2.593818809042503,
          2.70104593999388,
          0.970459647008266,
          0.600591532839468,
          0.765501039496593,
          2.62158395663386,
          2.14442565988658,
          3.00728723340751,
          0.175345074912752,
          1.59847001383189,
          2.36733896209991,
          0.722298202056167,
          0.493855744994371,
          0.828863470070942,
          0.910444902564511,
          1.45197711119455,
          1.87498501005673,
          1.21224489943751,
          3.211427903809,
          -0.702971857967563,
          0.834812788038646,
          -0.0819372405302065,
          0.156747054750178,
          0.37632294450367,
          -0.0824466091158564,
          1.97570606573325,
          -1.02517870784193,
          0.84418167703331,
          -0.395928119020198,
          2.45703865277568
         ]
        }
       ],
       "layout": {
        "coloraxis": {
         "colorbar": {
          "title": {
           "text": "Population growth (annual %)"
          }
         },
         "colorscale": [
          [
           0,
           "#440154"
          ],
          [
           0.1111111111111111,
           "#482878"
          ],
          [
           0.2222222222222222,
           "#3e4989"
          ],
          [
           0.3333333333333333,
           "#31688e"
          ],
          [
           0.4444444444444444,
           "#26828e"
          ],
          [
           0.5555555555555556,
           "#1f9e89"
          ],
          [
           0.6666666666666666,
           "#35b779"
          ],
          [
           0.7777777777777778,
           "#6ece58"
          ],
          [
           0.8888888888888888,
           "#b5de2b"
          ],
          [
           1,
           "#fde725"
          ]
         ]
        },
        "geo": {
         "center": {},
         "domain": {
          "x": [
           0,
           1
          ],
          "y": [
           0,
           1
          ]
         }
        },
        "legend": {
         "tracegroupgap": 0
        },
        "template": {
         "data": {
          "bar": [
           {
            "error_x": {
             "color": "#2a3f5f"
            },
            "error_y": {
             "color": "#2a3f5f"
            },
            "marker": {
             "line": {
              "color": "#E5ECF6",
              "width": 0.5
             },
             "pattern": {
              "fillmode": "overlay",
              "size": 10,
              "solidity": 0.2
             }
            },
            "type": "bar"
           }
          ],
          "barpolar": [
           {
            "marker": {
             "line": {
              "color": "#E5ECF6",
              "width": 0.5
             },
             "pattern": {
              "fillmode": "overlay",
              "size": 10,
              "solidity": 0.2
             }
            },
            "type": "barpolar"
           }
          ],
          "carpet": [
           {
            "aaxis": {
             "endlinecolor": "#2a3f5f",
             "gridcolor": "white",
             "linecolor": "white",
             "minorgridcolor": "white",
             "startlinecolor": "#2a3f5f"
            },
            "baxis": {
             "endlinecolor": "#2a3f5f",
             "gridcolor": "white",
             "linecolor": "white",
             "minorgridcolor": "white",
             "startlinecolor": "#2a3f5f"
            },
            "type": "carpet"
           }
          ],
          "choropleth": [
           {
            "colorbar": {
             "outlinewidth": 0,
             "ticks": ""
            },
            "type": "choropleth"
           }
          ],
          "contour": [
           {
            "colorbar": {
             "outlinewidth": 0,
             "ticks": ""
            },
            "colorscale": [
             [
              0,
              "#0d0887"
             ],
             [
              0.1111111111111111,
              "#46039f"
             ],
             [
              0.2222222222222222,
              "#7201a8"
             ],
             [
              0.3333333333333333,
              "#9c179e"
             ],
             [
              0.4444444444444444,
              "#bd3786"
             ],
             [
              0.5555555555555556,
              "#d8576b"
             ],
             [
              0.6666666666666666,
              "#ed7953"
             ],
             [
              0.7777777777777778,
              "#fb9f3a"
             ],
             [
              0.8888888888888888,
              "#fdca26"
             ],
             [
              1,
              "#f0f921"
             ]
            ],
            "type": "contour"
           }
          ],
          "contourcarpet": [
           {
            "colorbar": {
             "outlinewidth": 0,
             "ticks": ""
            },
            "type": "contourcarpet"
           }
          ],
          "heatmap": [
           {
            "colorbar": {
             "outlinewidth": 0,
             "ticks": ""
            },
            "colorscale": [
             [
              0,
              "#0d0887"
             ],
             [
              0.1111111111111111,
              "#46039f"
             ],
             [
              0.2222222222222222,
              "#7201a8"
             ],
             [
              0.3333333333333333,
              "#9c179e"
             ],
             [
              0.4444444444444444,
              "#bd3786"
             ],
             [
              0.5555555555555556,
              "#d8576b"
             ],
             [
              0.6666666666666666,
              "#ed7953"
             ],
             [
              0.7777777777777778,
              "#fb9f3a"
             ],
             [
              0.8888888888888888,
              "#fdca26"
             ],
             [
              1,
              "#f0f921"
             ]
            ],
            "type": "heatmap"
           }
          ],
          "heatmapgl": [
           {
            "colorbar": {
             "outlinewidth": 0,
             "ticks": ""
            },
            "colorscale": [
             [
              0,
              "#0d0887"
             ],
             [
              0.1111111111111111,
              "#46039f"
             ],
             [
              0.2222222222222222,
              "#7201a8"
             ],
             [
              0.3333333333333333,
              "#9c179e"
             ],
             [
              0.4444444444444444,
              "#bd3786"
             ],
             [
              0.5555555555555556,
              "#d8576b"
             ],
             [
              0.6666666666666666,
              "#ed7953"
             ],
             [
              0.7777777777777778,
              "#fb9f3a"
             ],
             [
              0.8888888888888888,
              "#fdca26"
             ],
             [
              1,
              "#f0f921"
             ]
            ],
            "type": "heatmapgl"
           }
          ],
          "histogram": [
           {
            "marker": {
             "pattern": {
              "fillmode": "overlay",
              "size": 10,
              "solidity": 0.2
             }
            },
            "type": "histogram"
           }
          ],
          "histogram2d": [
           {
            "colorbar": {
             "outlinewidth": 0,
             "ticks": ""
            },
            "colorscale": [
             [
              0,
              "#0d0887"
             ],
             [
              0.1111111111111111,
              "#46039f"
             ],
             [
              0.2222222222222222,
              "#7201a8"
             ],
             [
              0.3333333333333333,
              "#9c179e"
             ],
             [
              0.4444444444444444,
              "#bd3786"
             ],
             [
              0.5555555555555556,
              "#d8576b"
             ],
             [
              0.6666666666666666,
              "#ed7953"
             ],
             [
              0.7777777777777778,
              "#fb9f3a"
             ],
             [
              0.8888888888888888,
              "#fdca26"
             ],
             [
              1,
              "#f0f921"
             ]
            ],
            "type": "histogram2d"
           }
          ],
          "histogram2dcontour": [
           {
            "colorbar": {
             "outlinewidth": 0,
             "ticks": ""
            },
            "colorscale": [
             [
              0,
              "#0d0887"
             ],
             [
              0.1111111111111111,
              "#46039f"
             ],
             [
              0.2222222222222222,
              "#7201a8"
             ],
             [
              0.3333333333333333,
              "#9c179e"
             ],
             [
              0.4444444444444444,
              "#bd3786"
             ],
             [
              0.5555555555555556,
              "#d8576b"
             ],
             [
              0.6666666666666666,
              "#ed7953"
             ],
             [
              0.7777777777777778,
              "#fb9f3a"
             ],
             [
              0.8888888888888888,
              "#fdca26"
             ],
             [
              1,
              "#f0f921"
             ]
            ],
            "type": "histogram2dcontour"
           }
          ],
          "mesh3d": [
           {
            "colorbar": {
             "outlinewidth": 0,
             "ticks": ""
            },
            "type": "mesh3d"
           }
          ],
          "parcoords": [
           {
            "line": {
             "colorbar": {
              "outlinewidth": 0,
              "ticks": ""
             }
            },
            "type": "parcoords"
           }
          ],
          "pie": [
           {
            "automargin": true,
            "type": "pie"
           }
          ],
          "scatter": [
           {
            "fillpattern": {
             "fillmode": "overlay",
             "size": 10,
             "solidity": 0.2
            },
            "type": "scatter"
           }
          ],
          "scatter3d": [
           {
            "line": {
             "colorbar": {
              "outlinewidth": 0,
              "ticks": ""
             }
            },
            "marker": {
             "colorbar": {
              "outlinewidth": 0,
              "ticks": ""
             }
            },
            "type": "scatter3d"
           }
          ],
          "scattercarpet": [
           {
            "marker": {
             "colorbar": {
              "outlinewidth": 0,
              "ticks": ""
             }
            },
            "type": "scattercarpet"
           }
          ],
          "scattergeo": [
           {
            "marker": {
             "colorbar": {
              "outlinewidth": 0,
              "ticks": ""
             }
            },
            "type": "scattergeo"
           }
          ],
          "scattergl": [
           {
            "marker": {
             "colorbar": {
              "outlinewidth": 0,
              "ticks": ""
             }
            },
            "type": "scattergl"
           }
          ],
          "scattermapbox": [
           {
            "marker": {
             "colorbar": {
              "outlinewidth": 0,
              "ticks": ""
             }
            },
            "type": "scattermapbox"
           }
          ],
          "scatterpolar": [
           {
            "marker": {
             "colorbar": {
              "outlinewidth": 0,
              "ticks": ""
             }
            },
            "type": "scatterpolar"
           }
          ],
          "scatterpolargl": [
           {
            "marker": {
             "colorbar": {
              "outlinewidth": 0,
              "ticks": ""
             }
            },
            "type": "scatterpolargl"
           }
          ],
          "scatterternary": [
           {
            "marker": {
             "colorbar": {
              "outlinewidth": 0,
              "ticks": ""
             }
            },
            "type": "scatterternary"
           }
          ],
          "surface": [
           {
            "colorbar": {
             "outlinewidth": 0,
             "ticks": ""
            },
            "colorscale": [
             [
              0,
              "#0d0887"
             ],
             [
              0.1111111111111111,
              "#46039f"
             ],
             [
              0.2222222222222222,
              "#7201a8"
             ],
             [
              0.3333333333333333,
              "#9c179e"
             ],
             [
              0.4444444444444444,
              "#bd3786"
             ],
             [
              0.5555555555555556,
              "#d8576b"
             ],
             [
              0.6666666666666666,
              "#ed7953"
             ],
             [
              0.7777777777777778,
              "#fb9f3a"
             ],
             [
              0.8888888888888888,
              "#fdca26"
             ],
             [
              1,
              "#f0f921"
             ]
            ],
            "type": "surface"
           }
          ],
          "table": [
           {
            "cells": {
             "fill": {
              "color": "#EBF0F8"
             },
             "line": {
              "color": "white"
             }
            },
            "header": {
             "fill": {
              "color": "#C8D4E3"
             },
             "line": {
              "color": "white"
             }
            },
            "type": "table"
           }
          ]
         },
         "layout": {
          "annotationdefaults": {
           "arrowcolor": "#2a3f5f",
           "arrowhead": 0,
           "arrowwidth": 1
          },
          "autotypenumbers": "strict",
          "coloraxis": {
           "colorbar": {
            "outlinewidth": 0,
            "ticks": ""
           }
          },
          "colorscale": {
           "diverging": [
            [
             0,
             "#8e0152"
            ],
            [
             0.1,
             "#c51b7d"
            ],
            [
             0.2,
             "#de77ae"
            ],
            [
             0.3,
             "#f1b6da"
            ],
            [
             0.4,
             "#fde0ef"
            ],
            [
             0.5,
             "#f7f7f7"
            ],
            [
             0.6,
             "#e6f5d0"
            ],
            [
             0.7,
             "#b8e186"
            ],
            [
             0.8,
             "#7fbc41"
            ],
            [
             0.9,
             "#4d9221"
            ],
            [
             1,
             "#276419"
            ]
           ],
           "sequential": [
            [
             0,
             "#0d0887"
            ],
            [
             0.1111111111111111,
             "#46039f"
            ],
            [
             0.2222222222222222,
             "#7201a8"
            ],
            [
             0.3333333333333333,
             "#9c179e"
            ],
            [
             0.4444444444444444,
             "#bd3786"
            ],
            [
             0.5555555555555556,
             "#d8576b"
            ],
            [
             0.6666666666666666,
             "#ed7953"
            ],
            [
             0.7777777777777778,
             "#fb9f3a"
            ],
            [
             0.8888888888888888,
             "#fdca26"
            ],
            [
             1,
             "#f0f921"
            ]
           ],
           "sequentialminus": [
            [
             0,
             "#0d0887"
            ],
            [
             0.1111111111111111,
             "#46039f"
            ],
            [
             0.2222222222222222,
             "#7201a8"
            ],
            [
             0.3333333333333333,
             "#9c179e"
            ],
            [
             0.4444444444444444,
             "#bd3786"
            ],
            [
             0.5555555555555556,
             "#d8576b"
            ],
            [
             0.6666666666666666,
             "#ed7953"
            ],
            [
             0.7777777777777778,
             "#fb9f3a"
            ],
            [
             0.8888888888888888,
             "#fdca26"
            ],
            [
             1,
             "#f0f921"
            ]
           ]
          },
          "colorway": [
           "#636efa",
           "#EF553B",
           "#00cc96",
           "#ab63fa",
           "#FFA15A",
           "#19d3f3",
           "#FF6692",
           "#B6E880",
           "#FF97FF",
           "#FECB52"
          ],
          "font": {
           "color": "#2a3f5f"
          },
          "geo": {
           "bgcolor": "white",
           "lakecolor": "white",
           "landcolor": "#E5ECF6",
           "showlakes": true,
           "showland": true,
           "subunitcolor": "white"
          },
          "hoverlabel": {
           "align": "left"
          },
          "hovermode": "closest",
          "mapbox": {
           "style": "light"
          },
          "paper_bgcolor": "white",
          "plot_bgcolor": "#E5ECF6",
          "polar": {
           "angularaxis": {
            "gridcolor": "white",
            "linecolor": "white",
            "ticks": ""
           },
           "bgcolor": "#E5ECF6",
           "radialaxis": {
            "gridcolor": "white",
            "linecolor": "white",
            "ticks": ""
           }
          },
          "scene": {
           "xaxis": {
            "backgroundcolor": "#E5ECF6",
            "gridcolor": "white",
            "gridwidth": 2,
            "linecolor": "white",
            "showbackground": true,
            "ticks": "",
            "zerolinecolor": "white"
           },
           "yaxis": {
            "backgroundcolor": "#E5ECF6",
            "gridcolor": "white",
            "gridwidth": 2,
            "linecolor": "white",
            "showbackground": true,
            "ticks": "",
            "zerolinecolor": "white"
           },
           "zaxis": {
            "backgroundcolor": "#E5ECF6",
            "gridcolor": "white",
            "gridwidth": 2,
            "linecolor": "white",
            "showbackground": true,
            "ticks": "",
            "zerolinecolor": "white"
           }
          },
          "shapedefaults": {
           "line": {
            "color": "#2a3f5f"
           }
          },
          "ternary": {
           "aaxis": {
            "gridcolor": "white",
            "linecolor": "white",
            "ticks": ""
           },
           "baxis": {
            "gridcolor": "white",
            "linecolor": "white",
            "ticks": ""
           },
           "bgcolor": "#E5ECF6",
           "caxis": {
            "gridcolor": "white",
            "linecolor": "white",
            "ticks": ""
           }
          },
          "title": {
           "x": 0.05
          },
          "xaxis": {
           "automargin": true,
           "gridcolor": "white",
           "linecolor": "white",
           "ticks": "",
           "title": {
            "standoff": 15
           },
           "zerolinecolor": "white",
           "zerolinewidth": 2
          },
          "yaxis": {
           "automargin": true,
           "gridcolor": "white",
           "linecolor": "white",
           "ticks": "",
           "title": {
            "standoff": 15
           },
           "zerolinecolor": "white",
           "zerolinewidth": 2
          }
         }
        },
        "title": {
         "text": "Population growth (annual %) by Country in 2021"
        }
       }
      }
     },
     "metadata": {},
     "output_type": "display_data"
    }
   ],
   "source": [
    "# Create the choropleth map\n",
    "fig = px.choropleth(\n",
    "    df,\n",
    "    locations='Country Name',  # Column containing country names\n",
    "    locationmode='country names',  # Use country names to match locations\n",
    "    color='Population growth (annual %)',  # Column to represent color scale\n",
    "    hover_name='Country Name',  # Column to show when hovering over a country\n",
    "    color_continuous_scale='Viridis',  # Color scale\n",
    "    title='Population growth (annual %) by Country in 2021'  # Title of the map\n",
    ")\n",
    "\n",
    "# Show the plot\n",
    "fig.show()"
   ]
  },
  {
   "attachments": {
    "image.png": {
     "image/png": "[encoded data removed]"
    }
   },
   "cell_type": "markdown",
   "metadata": {},
   "source": [
    "![image.png](attachment:image.png)"
   ]
  },
  {
   "cell_type": "markdown",
   "metadata": {},
   "source": [
    "Fertility Rate by Country in 2021:\n",
    "\n",
    "This map shows the fertility rate, which is the average number of births per woman in different countries.\n",
    "The color scale ranges from purple (low fertility rate) to yellow (high fertility rate).\n",
    "The map highlights regions in Africa with higher fertility rates (more than 5 births per woman), shown in yellow and green. In contrast, countries in Europe, North America, and East Asia show lower fertility rates (1-2 births per woman), represented by purple shades.\n",
    "\n",
    "Population Growth (Annual %) by Country in 2021:\n",
    "\n",
    "This map represents the annual percentage growth in population for different countries.\n",
    "The color scale ranges from purple (negative growth) to yellow (positive growth).\n",
    "The map shows that many African countries have high population growth rates (indicated by yellow shades), while some countries in Eastern Europe, Japan, and parts of the Caribbean are experiencing negative population growth (indicated by purple shades).\n",
    "\n",
    "\n",
    "Overall Interpretation:\n",
    "\n",
    "Fertility Rate: The map visually demonstrates global disparities in fertility rates, with many countries in Africa having significantly higher fertility rates compared to countries in Europe and East Asia. This suggests that these regions might experience different population dynamics in the coming years.\n",
    "Population Growth: The population growth map provides insights into where the global population is expanding or contracting. High population growth in many African countries could lead to increased economic and social demands in these regions, while negative growth in other regions may raise concerns about aging populations and labor shortages.\n",
    "These visualizations provide a clear and accessible way to understand and communicate the differences in fertility rates and population growth across the world, making them suitable for analyses that involve comparing these metrics at a global scale.\n",
    "\n",
    "Fertility Rate represents the average number of children born to a woman over her lifetime in a specific country. Higher fertility rates are typically found in African countries, while lower rates are seen in more developed regions like Europe, North America, and East Asia.\n",
    "Population Growth Rate represents the annual percentage change in population, which can be influenced by birth rates, death rates, and migration patterns. Regions with high fertility rates, particularly in Africa, also show higher population growth rates.\n",
    "\n",
    "From these maps, it's evident that countries with higher fertility rates, primarily in Africa and some parts of Asia, generally show higher population growth rates. This supports the positive relationship observed in TP-1 between fertility rate and population growth, extending the insight beyond Canada to a global context.\n",
    "\n",
    "Anomalies: There may be exceptions where high fertility rates do not correspond to high population growth, possibly due to factors like high mortality rates, emigration, or other socio-political factors. Conversely, some countries with moderate fertility rates might show positive population growth due to favorable migration policies.\n",
    "\n",
    "The significant positive relationship between fertility rate and population growth in Canada, as observed in TP-1, appears to align with global trends where countries with higher fertility rates tend to have higher population growth. However, the degree of correlation may vary depending on other contributing factors specific to each country."
   ]
  }
 ],
 "metadata": {
  "kernelspec": {
   "display_name": "dsi_participant",
   "language": "python",
   "name": "python3"
  },
  "language_info": {
   "codemirror_mode": {
    "name": "ipython",
    "version": 3
   },
   "file_extension": ".py",
   "mimetype": "text/x-python",
   "name": "python",
   "nbconvert_exporter": "python",
   "pygments_lexer": "ipython3",
   "version": "3.9.15"
  }
 },
 "nbformat": 4,
 "nbformat_minor": 2
}
