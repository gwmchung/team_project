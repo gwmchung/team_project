{
 "cells": [
  {
   "cell_type": "code",
   "execution_count": 1,
   "metadata": {},
   "outputs": [
    {
     "name": "stdout",
     "output_type": "stream",
     "text": [
      "File has been saved as C:\\!D\\DSI\\team_project\\data\\raw\\raw_data.csv\n"
     ]
    }
   ],
   "source": [
    "import pandas as pd\n",
    "\n",
    "excel_file_path = r'C:\\!D\\DSI\\team_project\\data\\raw\\API_8_DS2_en_excel_v2_580868.xls'\n",
    "csv_file_path = r'C:\\!D\\DSI\\team_project\\data\\raw\\raw_data.csv'\n",
    "\n",
    "df = pd.read_excel(excel_file_path, sheet_name='Data')\n",
    "\n",
    "df.to_csv(csv_file_path, index=False)\n",
    "\n",
    "print(f\"File has been saved as {csv_file_path}\")"
   ]
  },
  {
   "cell_type": "code",
   "execution_count": 2,
   "metadata": {},
   "outputs": [
    {
     "name": "stdout",
     "output_type": "stream",
     "text": [
      "File has been saved as C:\\!D\\DSI\\team_project\\data\\raw\\Canada_population.csv\n"
     ]
    }
   ],
   "source": [
    "excel_file_path = r'C:\\!D\\DSI\\team_project\\data\\raw\\API_8_DS2_en_excel_v2_580868.xls'\n",
    "csv_file_path = r'C:\\!D\\DSI\\team_project\\data\\raw\\Canada_population.csv'\n",
    "\n",
    "df = pd.read_excel(excel_file_path, sheet_name='Population_Fertility_Migration')\n",
    "\n",
    "df.to_csv(csv_file_path, index=False)\n",
    "\n",
    "print(f\"File has been saved as {csv_file_path}\")"
   ]
  },
  {
   "cell_type": "code",
   "execution_count": null,
   "metadata": {},
   "outputs": [],
   "source": []
  }
 ],
 "metadata": {
  "kernelspec": {
   "display_name": "dsi_participant",
   "language": "python",
   "name": "python3"
  },
  "language_info": {
   "codemirror_mode": {
    "name": "ipython",
    "version": 3
   },
   "file_extension": ".py",
   "mimetype": "text/x-python",
   "name": "python",
   "nbconvert_exporter": "python",
   "pygments_lexer": "ipython3",
   "version": "3.9.15"
  }
 },
 "nbformat": 4,
 "nbformat_minor": 2
}
